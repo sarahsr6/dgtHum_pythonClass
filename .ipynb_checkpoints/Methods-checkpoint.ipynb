{
 "cells": [
  {
   "cell_type": "markdown",
   "id": "8b44c462",
   "metadata": {},
   "source": [
    "# CO2 Emissions and Counrty's"
   ]
  },
  {
   "cell_type": "markdown",
   "id": "20b2ec39",
   "metadata": {},
   "source": [
    "\"explain your data and your analytical process\""
   ]
  },
  {
   "cell_type": "code",
   "execution_count": 58,
   "id": "4d673ff0",
   "metadata": {},
   "outputs": [
    {
     "data": {
      "text/html": [
       "<div>\n",
       "<style scoped>\n",
       "    .dataframe tbody tr th:only-of-type {\n",
       "        vertical-align: middle;\n",
       "    }\n",
       "\n",
       "    .dataframe tbody tr th {\n",
       "        vertical-align: top;\n",
       "    }\n",
       "\n",
       "    .dataframe thead th {\n",
       "        text-align: right;\n",
       "    }\n",
       "</style>\n",
       "<table border=\"1\" class=\"dataframe\">\n",
       "  <thead>\n",
       "    <tr style=\"text-align: right;\">\n",
       "      <th></th>\n",
       "      <th>Country</th>\n",
       "      <th>Year</th>\n",
       "      <th>Emissions.Type.CO2</th>\n",
       "      <th>Emissions.Type.N2O</th>\n",
       "      <th>Emissions.Type.CH4</th>\n",
       "      <th>Emissions.Sector.Power Industry</th>\n",
       "      <th>Emissions.Sector.Buildings</th>\n",
       "      <th>Emissions.Sector.Transport</th>\n",
       "      <th>Emissions.Sector.Other Industry</th>\n",
       "      <th>Emissions.Sector.Other sectors</th>\n",
       "      <th>Ratio.Per GDP</th>\n",
       "      <th>Ratio.Per Capita</th>\n",
       "    </tr>\n",
       "  </thead>\n",
       "  <tbody>\n",
       "    <tr>\n",
       "      <th>0</th>\n",
       "      <td>Afghanistan</td>\n",
       "      <td>1970</td>\n",
       "      <td>2670.0</td>\n",
       "      <td>1820.0</td>\n",
       "      <td>12800.0</td>\n",
       "      <td>0.06</td>\n",
       "      <td>0.58</td>\n",
       "      <td>0.23</td>\n",
       "      <td>0.07</td>\n",
       "      <td>0.53</td>\n",
       "      <td>1.557705</td>\n",
       "      <td>0.000000</td>\n",
       "    </tr>\n",
       "    <tr>\n",
       "      <th>1</th>\n",
       "      <td>Afghanistan</td>\n",
       "      <td>1971</td>\n",
       "      <td>2630.0</td>\n",
       "      <td>1850.0</td>\n",
       "      <td>12900.0</td>\n",
       "      <td>0.06</td>\n",
       "      <td>0.58</td>\n",
       "      <td>0.23</td>\n",
       "      <td>0.07</td>\n",
       "      <td>0.53</td>\n",
       "      <td>1.517670</td>\n",
       "      <td>0.000000</td>\n",
       "    </tr>\n",
       "    <tr>\n",
       "      <th>2</th>\n",
       "      <td>Afghanistan</td>\n",
       "      <td>1972</td>\n",
       "      <td>2180.0</td>\n",
       "      <td>1810.0</td>\n",
       "      <td>11900.0</td>\n",
       "      <td>0.12</td>\n",
       "      <td>0.46</td>\n",
       "      <td>0.27</td>\n",
       "      <td>0.05</td>\n",
       "      <td>0.61</td>\n",
       "      <td>1.357590</td>\n",
       "      <td>0.000000</td>\n",
       "    </tr>\n",
       "    <tr>\n",
       "      <th>3</th>\n",
       "      <td>Afghanistan</td>\n",
       "      <td>1973</td>\n",
       "      <td>2310.0</td>\n",
       "      <td>1830.0</td>\n",
       "      <td>11600.0</td>\n",
       "      <td>0.17</td>\n",
       "      <td>0.57</td>\n",
       "      <td>0.24</td>\n",
       "      <td>0.02</td>\n",
       "      <td>0.47</td>\n",
       "      <td>1.307901</td>\n",
       "      <td>0.000000</td>\n",
       "    </tr>\n",
       "    <tr>\n",
       "      <th>4</th>\n",
       "      <td>Afghanistan</td>\n",
       "      <td>1974</td>\n",
       "      <td>2520.0</td>\n",
       "      <td>2190.0</td>\n",
       "      <td>12800.0</td>\n",
       "      <td>0.21</td>\n",
       "      <td>0.77</td>\n",
       "      <td>0.24</td>\n",
       "      <td>0.03</td>\n",
       "      <td>0.65</td>\n",
       "      <td>1.425016</td>\n",
       "      <td>0.000000</td>\n",
       "    </tr>\n",
       "    <tr>\n",
       "      <th>...</th>\n",
       "      <td>...</td>\n",
       "      <td>...</td>\n",
       "      <td>...</td>\n",
       "      <td>...</td>\n",
       "      <td>...</td>\n",
       "      <td>...</td>\n",
       "      <td>...</td>\n",
       "      <td>...</td>\n",
       "      <td>...</td>\n",
       "      <td>...</td>\n",
       "      <td>...</td>\n",
       "      <td>...</td>\n",
       "    </tr>\n",
       "    <tr>\n",
       "      <th>8380</th>\n",
       "      <td>Zimbabwe</td>\n",
       "      <td>2008</td>\n",
       "      <td>4150.0</td>\n",
       "      <td>11200.0</td>\n",
       "      <td>7960.0</td>\n",
       "      <td>2.66</td>\n",
       "      <td>2.39</td>\n",
       "      <td>1.02</td>\n",
       "      <td>1.39</td>\n",
       "      <td>0.60</td>\n",
       "      <td>1.720451</td>\n",
       "      <td>1.417634</td>\n",
       "    </tr>\n",
       "    <tr>\n",
       "      <th>8381</th>\n",
       "      <td>Zimbabwe</td>\n",
       "      <td>2009</td>\n",
       "      <td>4100.0</td>\n",
       "      <td>11100.0</td>\n",
       "      <td>8640.0</td>\n",
       "      <td>2.71</td>\n",
       "      <td>2.71</td>\n",
       "      <td>1.08</td>\n",
       "      <td>0.68</td>\n",
       "      <td>0.58</td>\n",
       "      <td>1.728668</td>\n",
       "      <td>1.368000</td>\n",
       "    </tr>\n",
       "    <tr>\n",
       "      <th>8382</th>\n",
       "      <td>Zimbabwe</td>\n",
       "      <td>2010</td>\n",
       "      <td>4100.0</td>\n",
       "      <td>11100.0</td>\n",
       "      <td>9580.0</td>\n",
       "      <td>4.84</td>\n",
       "      <td>1.92</td>\n",
       "      <td>1.20</td>\n",
       "      <td>1.26</td>\n",
       "      <td>0.77</td>\n",
       "      <td>1.761650</td>\n",
       "      <td>1.276703</td>\n",
       "    </tr>\n",
       "    <tr>\n",
       "      <th>8383</th>\n",
       "      <td>Zimbabwe</td>\n",
       "      <td>2011</td>\n",
       "      <td>4130.0</td>\n",
       "      <td>11300.0</td>\n",
       "      <td>10500.0</td>\n",
       "      <td>5.95</td>\n",
       "      <td>1.32</td>\n",
       "      <td>2.28</td>\n",
       "      <td>1.52</td>\n",
       "      <td>0.91</td>\n",
       "      <td>1.797911</td>\n",
       "      <td>1.193823</td>\n",
       "    </tr>\n",
       "    <tr>\n",
       "      <th>8384</th>\n",
       "      <td>Zimbabwe</td>\n",
       "      <td>2012</td>\n",
       "      <td>4140.0</td>\n",
       "      <td>11300.0</td>\n",
       "      <td>10600.0</td>\n",
       "      <td>5.55</td>\n",
       "      <td>1.34</td>\n",
       "      <td>2.58</td>\n",
       "      <td>1.97</td>\n",
       "      <td>1.04</td>\n",
       "      <td>1.775448</td>\n",
       "      <td>1.084327</td>\n",
       "    </tr>\n",
       "  </tbody>\n",
       "</table>\n",
       "<p>8385 rows × 12 columns</p>\n",
       "</div>"
      ],
      "text/plain": [
       "          Country  Year  Emissions.Type.CO2  Emissions.Type.N2O  \\\n",
       "0     Afghanistan  1970              2670.0              1820.0   \n",
       "1     Afghanistan  1971              2630.0              1850.0   \n",
       "2     Afghanistan  1972              2180.0              1810.0   \n",
       "3     Afghanistan  1973              2310.0              1830.0   \n",
       "4     Afghanistan  1974              2520.0              2190.0   \n",
       "...           ...   ...                 ...                 ...   \n",
       "8380     Zimbabwe  2008              4150.0             11200.0   \n",
       "8381     Zimbabwe  2009              4100.0             11100.0   \n",
       "8382     Zimbabwe  2010              4100.0             11100.0   \n",
       "8383     Zimbabwe  2011              4130.0             11300.0   \n",
       "8384     Zimbabwe  2012              4140.0             11300.0   \n",
       "\n",
       "      Emissions.Type.CH4  Emissions.Sector.Power Industry  \\\n",
       "0                12800.0                             0.06   \n",
       "1                12900.0                             0.06   \n",
       "2                11900.0                             0.12   \n",
       "3                11600.0                             0.17   \n",
       "4                12800.0                             0.21   \n",
       "...                  ...                              ...   \n",
       "8380              7960.0                             2.66   \n",
       "8381              8640.0                             2.71   \n",
       "8382              9580.0                             4.84   \n",
       "8383             10500.0                             5.95   \n",
       "8384             10600.0                             5.55   \n",
       "\n",
       "      Emissions.Sector.Buildings  Emissions.Sector.Transport  \\\n",
       "0                           0.58                        0.23   \n",
       "1                           0.58                        0.23   \n",
       "2                           0.46                        0.27   \n",
       "3                           0.57                        0.24   \n",
       "4                           0.77                        0.24   \n",
       "...                          ...                         ...   \n",
       "8380                        2.39                        1.02   \n",
       "8381                        2.71                        1.08   \n",
       "8382                        1.92                        1.20   \n",
       "8383                        1.32                        2.28   \n",
       "8384                        1.34                        2.58   \n",
       "\n",
       "      Emissions.Sector.Other Industry  Emissions.Sector.Other sectors  \\\n",
       "0                                0.07                            0.53   \n",
       "1                                0.07                            0.53   \n",
       "2                                0.05                            0.61   \n",
       "3                                0.02                            0.47   \n",
       "4                                0.03                            0.65   \n",
       "...                               ...                             ...   \n",
       "8380                             1.39                            0.60   \n",
       "8381                             0.68                            0.58   \n",
       "8382                             1.26                            0.77   \n",
       "8383                             1.52                            0.91   \n",
       "8384                             1.97                            1.04   \n",
       "\n",
       "      Ratio.Per GDP  Ratio.Per Capita  \n",
       "0          1.557705          0.000000  \n",
       "1          1.517670          0.000000  \n",
       "2          1.357590          0.000000  \n",
       "3          1.307901          0.000000  \n",
       "4          1.425016          0.000000  \n",
       "...             ...               ...  \n",
       "8380       1.720451          1.417634  \n",
       "8381       1.728668          1.368000  \n",
       "8382       1.761650          1.276703  \n",
       "8383       1.797911          1.193823  \n",
       "8384       1.775448          1.084327  \n",
       "\n",
       "[8385 rows x 12 columns]"
      ]
     },
     "execution_count": 58,
     "metadata": {},
     "output_type": "execute_result"
    }
   ],
   "source": [
    "import pandas as pd\n",
    "pd.read_csv('https://corgis-edu.github.io/corgis/datasets/csv/emissions/emissions.csv')"
   ]
  },
  {
   "cell_type": "code",
   "execution_count": 59,
   "id": "72f66f4d",
   "metadata": {},
   "outputs": [
    {
     "data": {
      "text/html": [
       "<div>\n",
       "<style scoped>\n",
       "    .dataframe tbody tr th:only-of-type {\n",
       "        vertical-align: middle;\n",
       "    }\n",
       "\n",
       "    .dataframe tbody tr th {\n",
       "        vertical-align: top;\n",
       "    }\n",
       "\n",
       "    .dataframe thead th {\n",
       "        text-align: right;\n",
       "    }\n",
       "</style>\n",
       "<table border=\"1\" class=\"dataframe\">\n",
       "  <thead>\n",
       "    <tr style=\"text-align: right;\">\n",
       "      <th></th>\n",
       "      <th>Year</th>\n",
       "      <th>Country.Name</th>\n",
       "      <th>Country.Code</th>\n",
       "      <th>Country.GDP</th>\n",
       "      <th>Country.Population</th>\n",
       "      <th>Emissions.Production.CH4</th>\n",
       "      <th>Emissions.Production.N2O</th>\n",
       "      <th>Emissions.Production.CO2.Cement</th>\n",
       "      <th>Emissions.Production.CO2.Coal</th>\n",
       "      <th>Emissions.Production.CO2.Gas</th>\n",
       "      <th>Emissions.Production.CO2.Oil</th>\n",
       "      <th>Emissions.Production.CO2.Flaring</th>\n",
       "      <th>Emissions.Production.CO2.Other</th>\n",
       "      <th>Emissions.Production.CO2.Total</th>\n",
       "      <th>Emissions.Global Share.CO2.Cement</th>\n",
       "      <th>Emissions.Global Share.CO2.Coal</th>\n",
       "      <th>Emissions.Global Share.CO2.Gas</th>\n",
       "      <th>Emissions.Global Share.CO2.Oil</th>\n",
       "      <th>Emissions.Global Share.CO2.Flaring</th>\n",
       "      <th>Emissions.Global Share.CO2.Total</th>\n",
       "    </tr>\n",
       "  </thead>\n",
       "  <tbody>\n",
       "    <tr>\n",
       "      <th>0</th>\n",
       "      <td>1992</td>\n",
       "      <td>Afghanistan</td>\n",
       "      <td>AFG</td>\n",
       "      <td>1.267754e+10</td>\n",
       "      <td>14485543</td>\n",
       "      <td>7.13</td>\n",
       "      <td>2.89</td>\n",
       "      <td>0.046</td>\n",
       "      <td>0.022</td>\n",
       "      <td>0.363</td>\n",
       "      <td>0.927</td>\n",
       "      <td>0.022</td>\n",
       "      <td>0.000000e+00</td>\n",
       "      <td>1.379</td>\n",
       "      <td>0.01</td>\n",
       "      <td>0.00</td>\n",
       "      <td>0.01</td>\n",
       "      <td>0.01</td>\n",
       "      <td>0.01</td>\n",
       "      <td>0.01</td>\n",
       "    </tr>\n",
       "    <tr>\n",
       "      <th>1</th>\n",
       "      <td>1993</td>\n",
       "      <td>Afghanistan</td>\n",
       "      <td>AFG</td>\n",
       "      <td>9.834581e+09</td>\n",
       "      <td>15816601</td>\n",
       "      <td>7.21</td>\n",
       "      <td>2.93</td>\n",
       "      <td>0.047</td>\n",
       "      <td>0.018</td>\n",
       "      <td>0.352</td>\n",
       "      <td>0.894</td>\n",
       "      <td>0.022</td>\n",
       "      <td>0.000000e+00</td>\n",
       "      <td>1.333</td>\n",
       "      <td>0.01</td>\n",
       "      <td>0.00</td>\n",
       "      <td>0.01</td>\n",
       "      <td>0.01</td>\n",
       "      <td>0.01</td>\n",
       "      <td>0.01</td>\n",
       "    </tr>\n",
       "    <tr>\n",
       "      <th>2</th>\n",
       "      <td>1994</td>\n",
       "      <td>Afghanistan</td>\n",
       "      <td>AFG</td>\n",
       "      <td>7.919857e+09</td>\n",
       "      <td>17075728</td>\n",
       "      <td>7.47</td>\n",
       "      <td>2.76</td>\n",
       "      <td>0.047</td>\n",
       "      <td>0.015</td>\n",
       "      <td>0.338</td>\n",
       "      <td>0.860</td>\n",
       "      <td>0.022</td>\n",
       "      <td>2.220446e-16</td>\n",
       "      <td>1.282</td>\n",
       "      <td>0.01</td>\n",
       "      <td>0.00</td>\n",
       "      <td>0.01</td>\n",
       "      <td>0.01</td>\n",
       "      <td>0.01</td>\n",
       "      <td>0.01</td>\n",
       "    </tr>\n",
       "    <tr>\n",
       "      <th>3</th>\n",
       "      <td>1995</td>\n",
       "      <td>Afghanistan</td>\n",
       "      <td>AFG</td>\n",
       "      <td>1.230753e+10</td>\n",
       "      <td>18110662</td>\n",
       "      <td>7.83</td>\n",
       "      <td>2.88</td>\n",
       "      <td>0.047</td>\n",
       "      <td>0.015</td>\n",
       "      <td>0.322</td>\n",
       "      <td>0.824</td>\n",
       "      <td>0.022</td>\n",
       "      <td>2.220446e-16</td>\n",
       "      <td>1.230</td>\n",
       "      <td>0.01</td>\n",
       "      <td>0.00</td>\n",
       "      <td>0.01</td>\n",
       "      <td>0.01</td>\n",
       "      <td>0.01</td>\n",
       "      <td>0.01</td>\n",
       "    </tr>\n",
       "    <tr>\n",
       "      <th>4</th>\n",
       "      <td>1996</td>\n",
       "      <td>Afghanistan</td>\n",
       "      <td>AFG</td>\n",
       "      <td>1.207013e+10</td>\n",
       "      <td>18853444</td>\n",
       "      <td>8.67</td>\n",
       "      <td>3.12</td>\n",
       "      <td>0.047</td>\n",
       "      <td>0.007</td>\n",
       "      <td>0.308</td>\n",
       "      <td>0.780</td>\n",
       "      <td>0.022</td>\n",
       "      <td>1.000000e-03</td>\n",
       "      <td>1.165</td>\n",
       "      <td>0.01</td>\n",
       "      <td>0.00</td>\n",
       "      <td>0.01</td>\n",
       "      <td>0.01</td>\n",
       "      <td>0.01</td>\n",
       "      <td>0.00</td>\n",
       "    </tr>\n",
       "    <tr>\n",
       "      <th>...</th>\n",
       "      <td>...</td>\n",
       "      <td>...</td>\n",
       "      <td>...</td>\n",
       "      <td>...</td>\n",
       "      <td>...</td>\n",
       "      <td>...</td>\n",
       "      <td>...</td>\n",
       "      <td>...</td>\n",
       "      <td>...</td>\n",
       "      <td>...</td>\n",
       "      <td>...</td>\n",
       "      <td>...</td>\n",
       "      <td>...</td>\n",
       "      <td>...</td>\n",
       "      <td>...</td>\n",
       "      <td>...</td>\n",
       "      <td>...</td>\n",
       "      <td>...</td>\n",
       "      <td>...</td>\n",
       "      <td>...</td>\n",
       "    </tr>\n",
       "    <tr>\n",
       "      <th>2479</th>\n",
       "      <td>2014</td>\n",
       "      <td>Vietnam</td>\n",
       "      <td>VNM</td>\n",
       "      <td>5.098024e+11</td>\n",
       "      <td>91713848</td>\n",
       "      <td>84.93</td>\n",
       "      <td>23.48</td>\n",
       "      <td>32.694</td>\n",
       "      <td>70.517</td>\n",
       "      <td>19.599</td>\n",
       "      <td>46.196</td>\n",
       "      <td>0.000</td>\n",
       "      <td>0.000000e+00</td>\n",
       "      <td>169.006</td>\n",
       "      <td>2.19</td>\n",
       "      <td>0.47</td>\n",
       "      <td>0.29</td>\n",
       "      <td>0.40</td>\n",
       "      <td>0.00</td>\n",
       "      <td>0.48</td>\n",
       "    </tr>\n",
       "    <tr>\n",
       "      <th>2480</th>\n",
       "      <td>2015</td>\n",
       "      <td>Vietnam</td>\n",
       "      <td>VNM</td>\n",
       "      <td>5.439311e+11</td>\n",
       "      <td>92677080</td>\n",
       "      <td>83.85</td>\n",
       "      <td>25.91</td>\n",
       "      <td>34.298</td>\n",
       "      <td>83.191</td>\n",
       "      <td>20.463</td>\n",
       "      <td>55.052</td>\n",
       "      <td>0.000</td>\n",
       "      <td>0.000000e+00</td>\n",
       "      <td>193.004</td>\n",
       "      <td>2.39</td>\n",
       "      <td>0.57</td>\n",
       "      <td>0.30</td>\n",
       "      <td>0.46</td>\n",
       "      <td>0.00</td>\n",
       "      <td>0.54</td>\n",
       "    </tr>\n",
       "    <tr>\n",
       "      <th>2481</th>\n",
       "      <td>2016</td>\n",
       "      <td>Vietnam</td>\n",
       "      <td>VNM</td>\n",
       "      <td>5.776835e+11</td>\n",
       "      <td>93640440</td>\n",
       "      <td>81.85</td>\n",
       "      <td>24.82</td>\n",
       "      <td>36.822</td>\n",
       "      <td>81.561</td>\n",
       "      <td>20.368</td>\n",
       "      <td>54.015</td>\n",
       "      <td>0.000</td>\n",
       "      <td>0.000000e+00</td>\n",
       "      <td>192.766</td>\n",
       "      <td>2.49</td>\n",
       "      <td>0.57</td>\n",
       "      <td>0.29</td>\n",
       "      <td>0.45</td>\n",
       "      <td>0.00</td>\n",
       "      <td>0.54</td>\n",
       "    </tr>\n",
       "    <tr>\n",
       "      <th>2482</th>\n",
       "      <td>2017</td>\n",
       "      <td>Vietnam</td>\n",
       "      <td>VNM</td>\n",
       "      <td>6.177747e+11</td>\n",
       "      <td>94600640</td>\n",
       "      <td>81.28</td>\n",
       "      <td>24.89</td>\n",
       "      <td>42.735</td>\n",
       "      <td>77.680</td>\n",
       "      <td>17.877</td>\n",
       "      <td>56.957</td>\n",
       "      <td>0.000</td>\n",
       "      <td>0.000000e+00</td>\n",
       "      <td>195.249</td>\n",
       "      <td>2.85</td>\n",
       "      <td>0.54</td>\n",
       "      <td>0.25</td>\n",
       "      <td>0.47</td>\n",
       "      <td>0.00</td>\n",
       "      <td>0.54</td>\n",
       "    </tr>\n",
       "    <tr>\n",
       "      <th>2483</th>\n",
       "      <td>2018</td>\n",
       "      <td>Vietnam</td>\n",
       "      <td>VNM</td>\n",
       "      <td>6.614884e+11</td>\n",
       "      <td>95545960</td>\n",
       "      <td>81.42</td>\n",
       "      <td>25.44</td>\n",
       "      <td>49.637</td>\n",
       "      <td>94.927</td>\n",
       "      <td>18.554</td>\n",
       "      <td>60.599</td>\n",
       "      <td>0.000</td>\n",
       "      <td>1.000000e-03</td>\n",
       "      <td>223.718</td>\n",
       "      <td>3.17</td>\n",
       "      <td>0.64</td>\n",
       "      <td>0.25</td>\n",
       "      <td>0.50</td>\n",
       "      <td>0.00</td>\n",
       "      <td>0.61</td>\n",
       "    </tr>\n",
       "  </tbody>\n",
       "</table>\n",
       "<p>2484 rows × 20 columns</p>\n",
       "</div>"
      ],
      "text/plain": [
       "      Year Country.Name Country.Code   Country.GDP  Country.Population  \\\n",
       "0     1992  Afghanistan          AFG  1.267754e+10            14485543   \n",
       "1     1993  Afghanistan          AFG  9.834581e+09            15816601   \n",
       "2     1994  Afghanistan          AFG  7.919857e+09            17075728   \n",
       "3     1995  Afghanistan          AFG  1.230753e+10            18110662   \n",
       "4     1996  Afghanistan          AFG  1.207013e+10            18853444   \n",
       "...    ...          ...          ...           ...                 ...   \n",
       "2479  2014      Vietnam          VNM  5.098024e+11            91713848   \n",
       "2480  2015      Vietnam          VNM  5.439311e+11            92677080   \n",
       "2481  2016      Vietnam          VNM  5.776835e+11            93640440   \n",
       "2482  2017      Vietnam          VNM  6.177747e+11            94600640   \n",
       "2483  2018      Vietnam          VNM  6.614884e+11            95545960   \n",
       "\n",
       "      Emissions.Production.CH4  Emissions.Production.N2O  \\\n",
       "0                         7.13                      2.89   \n",
       "1                         7.21                      2.93   \n",
       "2                         7.47                      2.76   \n",
       "3                         7.83                      2.88   \n",
       "4                         8.67                      3.12   \n",
       "...                        ...                       ...   \n",
       "2479                     84.93                     23.48   \n",
       "2480                     83.85                     25.91   \n",
       "2481                     81.85                     24.82   \n",
       "2482                     81.28                     24.89   \n",
       "2483                     81.42                     25.44   \n",
       "\n",
       "      Emissions.Production.CO2.Cement  Emissions.Production.CO2.Coal  \\\n",
       "0                               0.046                          0.022   \n",
       "1                               0.047                          0.018   \n",
       "2                               0.047                          0.015   \n",
       "3                               0.047                          0.015   \n",
       "4                               0.047                          0.007   \n",
       "...                               ...                            ...   \n",
       "2479                           32.694                         70.517   \n",
       "2480                           34.298                         83.191   \n",
       "2481                           36.822                         81.561   \n",
       "2482                           42.735                         77.680   \n",
       "2483                           49.637                         94.927   \n",
       "\n",
       "      Emissions.Production.CO2.Gas  Emissions.Production.CO2.Oil  \\\n",
       "0                            0.363                         0.927   \n",
       "1                            0.352                         0.894   \n",
       "2                            0.338                         0.860   \n",
       "3                            0.322                         0.824   \n",
       "4                            0.308                         0.780   \n",
       "...                            ...                           ...   \n",
       "2479                        19.599                        46.196   \n",
       "2480                        20.463                        55.052   \n",
       "2481                        20.368                        54.015   \n",
       "2482                        17.877                        56.957   \n",
       "2483                        18.554                        60.599   \n",
       "\n",
       "      Emissions.Production.CO2.Flaring  Emissions.Production.CO2.Other  \\\n",
       "0                                0.022                    0.000000e+00   \n",
       "1                                0.022                    0.000000e+00   \n",
       "2                                0.022                    2.220446e-16   \n",
       "3                                0.022                    2.220446e-16   \n",
       "4                                0.022                    1.000000e-03   \n",
       "...                                ...                             ...   \n",
       "2479                             0.000                    0.000000e+00   \n",
       "2480                             0.000                    0.000000e+00   \n",
       "2481                             0.000                    0.000000e+00   \n",
       "2482                             0.000                    0.000000e+00   \n",
       "2483                             0.000                    1.000000e-03   \n",
       "\n",
       "      Emissions.Production.CO2.Total  Emissions.Global Share.CO2.Cement  \\\n",
       "0                              1.379                               0.01   \n",
       "1                              1.333                               0.01   \n",
       "2                              1.282                               0.01   \n",
       "3                              1.230                               0.01   \n",
       "4                              1.165                               0.01   \n",
       "...                              ...                                ...   \n",
       "2479                         169.006                               2.19   \n",
       "2480                         193.004                               2.39   \n",
       "2481                         192.766                               2.49   \n",
       "2482                         195.249                               2.85   \n",
       "2483                         223.718                               3.17   \n",
       "\n",
       "      Emissions.Global Share.CO2.Coal  Emissions.Global Share.CO2.Gas  \\\n",
       "0                                0.00                            0.01   \n",
       "1                                0.00                            0.01   \n",
       "2                                0.00                            0.01   \n",
       "3                                0.00                            0.01   \n",
       "4                                0.00                            0.01   \n",
       "...                               ...                             ...   \n",
       "2479                             0.47                            0.29   \n",
       "2480                             0.57                            0.30   \n",
       "2481                             0.57                            0.29   \n",
       "2482                             0.54                            0.25   \n",
       "2483                             0.64                            0.25   \n",
       "\n",
       "      Emissions.Global Share.CO2.Oil  Emissions.Global Share.CO2.Flaring  \\\n",
       "0                               0.01                                0.01   \n",
       "1                               0.01                                0.01   \n",
       "2                               0.01                                0.01   \n",
       "3                               0.01                                0.01   \n",
       "4                               0.01                                0.01   \n",
       "...                              ...                                 ...   \n",
       "2479                            0.40                                0.00   \n",
       "2480                            0.46                                0.00   \n",
       "2481                            0.45                                0.00   \n",
       "2482                            0.47                                0.00   \n",
       "2483                            0.50                                0.00   \n",
       "\n",
       "      Emissions.Global Share.CO2.Total  \n",
       "0                                 0.01  \n",
       "1                                 0.01  \n",
       "2                                 0.01  \n",
       "3                                 0.01  \n",
       "4                                 0.00  \n",
       "...                                ...  \n",
       "2479                              0.48  \n",
       "2480                              0.54  \n",
       "2481                              0.54  \n",
       "2482                              0.54  \n",
       "2483                              0.61  \n",
       "\n",
       "[2484 rows x 20 columns]"
      ]
     },
     "execution_count": 59,
     "metadata": {},
     "output_type": "execute_result"
    }
   ],
   "source": [
    "pd.read_csv('https://corgis-edu.github.io/corgis/datasets/csv/global_emissions/global_emissions.csv')"
   ]
  },
  {
   "cell_type": "code",
   "execution_count": 60,
   "id": "0c599f17",
   "metadata": {},
   "outputs": [
    {
     "data": {
      "text/html": [
       "<div>\n",
       "<style scoped>\n",
       "    .dataframe tbody tr th:only-of-type {\n",
       "        vertical-align: middle;\n",
       "    }\n",
       "\n",
       "    .dataframe tbody tr th {\n",
       "        vertical-align: top;\n",
       "    }\n",
       "\n",
       "    .dataframe thead th {\n",
       "        text-align: right;\n",
       "    }\n",
       "</style>\n",
       "<table border=\"1\" class=\"dataframe\">\n",
       "  <thead>\n",
       "    <tr style=\"text-align: right;\">\n",
       "      <th></th>\n",
       "      <th>Country</th>\n",
       "      <th>Year</th>\n",
       "      <th>Data.Health.Birth Rate</th>\n",
       "      <th>Data.Health.Death Rate</th>\n",
       "      <th>Data.Health.Fertility Rate</th>\n",
       "      <th>Data.Health.Life Expectancy at Birth, Female</th>\n",
       "      <th>Data.Health.Life Expectancy at Birth, Male</th>\n",
       "      <th>Data.Health.Life Expectancy at Birth, Total</th>\n",
       "      <th>Data.Health.Population Growth</th>\n",
       "      <th>Data.Health.Total Population</th>\n",
       "      <th>...</th>\n",
       "      <th>Data.Rural Development.Agricultural Land Percent</th>\n",
       "      <th>Data.Rural Development.Arable Land</th>\n",
       "      <th>Data.Rural Development.Arable Land Percent</th>\n",
       "      <th>Data.Rural Development.Land Area</th>\n",
       "      <th>Data.Rural Development.Rural Population</th>\n",
       "      <th>Data.Rural Development.Rural Population Growth</th>\n",
       "      <th>Data.Rural Development.Surface Area</th>\n",
       "      <th>Data.Urban Development.Population Density</th>\n",
       "      <th>Data.Urban Development.Urban Population Percent</th>\n",
       "      <th>Data.Urban Development.Urban Population Percent Growth</th>\n",
       "    </tr>\n",
       "  </thead>\n",
       "  <tbody>\n",
       "    <tr>\n",
       "      <th>0</th>\n",
       "      <td>Canada</td>\n",
       "      <td>1980</td>\n",
       "      <td>15.400000</td>\n",
       "      <td>7.000000</td>\n",
       "      <td>1.754000</td>\n",
       "      <td>78.590000</td>\n",
       "      <td>71.320000</td>\n",
       "      <td>74.866341</td>\n",
       "      <td>0.997669</td>\n",
       "      <td>24277000.0</td>\n",
       "      <td>...</td>\n",
       "      <td>7.357225</td>\n",
       "      <td>1.827821</td>\n",
       "      <td>4.879744</td>\n",
       "      <td>9093510.0</td>\n",
       "      <td>5918004</td>\n",
       "      <td>0.833712</td>\n",
       "      <td>9984670.0</td>\n",
       "      <td>2.669706</td>\n",
       "      <td>75.623000</td>\n",
       "      <td>1.050578</td>\n",
       "    </tr>\n",
       "    <tr>\n",
       "      <th>1</th>\n",
       "      <td>Canada</td>\n",
       "      <td>1981</td>\n",
       "      <td>15.400000</td>\n",
       "      <td>7.100000</td>\n",
       "      <td>1.740000</td>\n",
       "      <td>78.730000</td>\n",
       "      <td>71.600000</td>\n",
       "      <td>75.078049</td>\n",
       "      <td>1.293245</td>\n",
       "      <td>24593000.0</td>\n",
       "      <td>...</td>\n",
       "      <td>7.301471</td>\n",
       "      <td>1.818526</td>\n",
       "      <td>4.918123</td>\n",
       "      <td>9093510.0</td>\n",
       "      <td>5985198</td>\n",
       "      <td>1.129019</td>\n",
       "      <td>9984670.0</td>\n",
       "      <td>2.704456</td>\n",
       "      <td>75.663000</td>\n",
       "      <td>1.346126</td>\n",
       "    </tr>\n",
       "    <tr>\n",
       "      <th>2</th>\n",
       "      <td>Canada</td>\n",
       "      <td>1982</td>\n",
       "      <td>15.300000</td>\n",
       "      <td>7.000000</td>\n",
       "      <td>1.700000</td>\n",
       "      <td>79.110000</td>\n",
       "      <td>72.020000</td>\n",
       "      <td>75.478537</td>\n",
       "      <td>1.240595</td>\n",
       "      <td>24900000.0</td>\n",
       "      <td>...</td>\n",
       "      <td>7.245717</td>\n",
       "      <td>1.810120</td>\n",
       "      <td>4.956502</td>\n",
       "      <td>9093510.0</td>\n",
       "      <td>6047712</td>\n",
       "      <td>1.039060</td>\n",
       "      <td>9984670.0</td>\n",
       "      <td>2.738217</td>\n",
       "      <td>75.712000</td>\n",
       "      <td>1.305333</td>\n",
       "    </tr>\n",
       "    <tr>\n",
       "      <th>3</th>\n",
       "      <td>Canada</td>\n",
       "      <td>1983</td>\n",
       "      <td>15.100000</td>\n",
       "      <td>7.100000</td>\n",
       "      <td>1.690000</td>\n",
       "      <td>79.230000</td>\n",
       "      <td>72.300000</td>\n",
       "      <td>75.680488</td>\n",
       "      <td>1.205555</td>\n",
       "      <td>25202000.0</td>\n",
       "      <td>...</td>\n",
       "      <td>7.288275</td>\n",
       "      <td>1.789779</td>\n",
       "      <td>4.960241</td>\n",
       "      <td>9093510.0</td>\n",
       "      <td>6080235</td>\n",
       "      <td>0.536333</td>\n",
       "      <td>9984670.0</td>\n",
       "      <td>2.771427</td>\n",
       "      <td>75.874000</td>\n",
       "      <td>1.419293</td>\n",
       "    </tr>\n",
       "    <tr>\n",
       "      <th>4</th>\n",
       "      <td>Canada</td>\n",
       "      <td>1984</td>\n",
       "      <td>15.000000</td>\n",
       "      <td>7.000000</td>\n",
       "      <td>1.680000</td>\n",
       "      <td>79.550000</td>\n",
       "      <td>72.690000</td>\n",
       "      <td>76.036341</td>\n",
       "      <td>1.002812</td>\n",
       "      <td>25456000.0</td>\n",
       "      <td>...</td>\n",
       "      <td>7.330943</td>\n",
       "      <td>1.773217</td>\n",
       "      <td>4.963870</td>\n",
       "      <td>9093510.0</td>\n",
       "      <td>6100530</td>\n",
       "      <td>0.333231</td>\n",
       "      <td>9984670.0</td>\n",
       "      <td>2.799359</td>\n",
       "      <td>76.035000</td>\n",
       "      <td>1.214785</td>\n",
       "    </tr>\n",
       "    <tr>\n",
       "      <th>...</th>\n",
       "      <td>...</td>\n",
       "      <td>...</td>\n",
       "      <td>...</td>\n",
       "      <td>...</td>\n",
       "      <td>...</td>\n",
       "      <td>...</td>\n",
       "      <td>...</td>\n",
       "      <td>...</td>\n",
       "      <td>...</td>\n",
       "      <td>...</td>\n",
       "      <td>...</td>\n",
       "      <td>...</td>\n",
       "      <td>...</td>\n",
       "      <td>...</td>\n",
       "      <td>...</td>\n",
       "      <td>...</td>\n",
       "      <td>...</td>\n",
       "      <td>...</td>\n",
       "      <td>...</td>\n",
       "      <td>...</td>\n",
       "      <td>...</td>\n",
       "    </tr>\n",
       "    <tr>\n",
       "      <th>6421</th>\n",
       "      <td>Heavily indebted poor countries (HIPC)</td>\n",
       "      <td>2009</td>\n",
       "      <td>39.694362</td>\n",
       "      <td>11.568275</td>\n",
       "      <td>5.448853</td>\n",
       "      <td>57.314810</td>\n",
       "      <td>55.042182</td>\n",
       "      <td>56.149510</td>\n",
       "      <td>2.755547</td>\n",
       "      <td>589184942.0</td>\n",
       "      <td>...</td>\n",
       "      <td>40.224998</td>\n",
       "      <td>0.259585</td>\n",
       "      <td>7.742953</td>\n",
       "      <td>19752631.0</td>\n",
       "      <td>404203594</td>\n",
       "      <td>2.132400</td>\n",
       "      <td>20392171.0</td>\n",
       "      <td>29.828175</td>\n",
       "      <td>31.396143</td>\n",
       "      <td>4.144006</td>\n",
       "    </tr>\n",
       "    <tr>\n",
       "      <th>6422</th>\n",
       "      <td>Heavily indebted poor countries (HIPC)</td>\n",
       "      <td>2010</td>\n",
       "      <td>39.249875</td>\n",
       "      <td>11.239563</td>\n",
       "      <td>5.363884</td>\n",
       "      <td>57.941917</td>\n",
       "      <td>55.580622</td>\n",
       "      <td>56.731231</td>\n",
       "      <td>2.742284</td>\n",
       "      <td>605342064.0</td>\n",
       "      <td>...</td>\n",
       "      <td>40.282701</td>\n",
       "      <td>0.254637</td>\n",
       "      <td>7.803635</td>\n",
       "      <td>19752631.0</td>\n",
       "      <td>412723475</td>\n",
       "      <td>2.107819</td>\n",
       "      <td>20392171.0</td>\n",
       "      <td>30.646149</td>\n",
       "      <td>31.819793</td>\n",
       "      <td>4.128655</td>\n",
       "    </tr>\n",
       "    <tr>\n",
       "      <th>6423</th>\n",
       "      <td>Heavily indebted poor countries (HIPC)</td>\n",
       "      <td>2011</td>\n",
       "      <td>38.807293</td>\n",
       "      <td>10.936774</td>\n",
       "      <td>5.278963</td>\n",
       "      <td>58.533726</td>\n",
       "      <td>56.080300</td>\n",
       "      <td>57.275881</td>\n",
       "      <td>2.728734</td>\n",
       "      <td>621860240.0</td>\n",
       "      <td>...</td>\n",
       "      <td>40.402744</td>\n",
       "      <td>0.251078</td>\n",
       "      <td>7.904542</td>\n",
       "      <td>19752631.0</td>\n",
       "      <td>421313384</td>\n",
       "      <td>2.081275</td>\n",
       "      <td>20392171.0</td>\n",
       "      <td>31.482400</td>\n",
       "      <td>32.249506</td>\n",
       "      <td>4.116045</td>\n",
       "    </tr>\n",
       "    <tr>\n",
       "      <th>6424</th>\n",
       "      <td>Heavily indebted poor countries (HIPC)</td>\n",
       "      <td>2012</td>\n",
       "      <td>38.366140</td>\n",
       "      <td>10.661019</td>\n",
       "      <td>5.194085</td>\n",
       "      <td>59.080577</td>\n",
       "      <td>56.538581</td>\n",
       "      <td>57.777390</td>\n",
       "      <td>2.714024</td>\n",
       "      <td>638737676.0</td>\n",
       "      <td>...</td>\n",
       "      <td>39.072643</td>\n",
       "      <td>0.243605</td>\n",
       "      <td>7.877416</td>\n",
       "      <td>19752631.0</td>\n",
       "      <td>429969441</td>\n",
       "      <td>2.054541</td>\n",
       "      <td>19765718.5</td>\n",
       "      <td>32.336840</td>\n",
       "      <td>32.684503</td>\n",
       "      <td>4.099480</td>\n",
       "    </tr>\n",
       "    <tr>\n",
       "      <th>6425</th>\n",
       "      <td>Heavily indebted poor countries (HIPC)</td>\n",
       "      <td>2013</td>\n",
       "      <td>37.924698</td>\n",
       "      <td>10.407943</td>\n",
       "      <td>5.109213</td>\n",
       "      <td>59.585337</td>\n",
       "      <td>56.962692</td>\n",
       "      <td>58.240852</td>\n",
       "      <td>2.698148</td>\n",
       "      <td>655971763.0</td>\n",
       "      <td>...</td>\n",
       "      <td>39.676293</td>\n",
       "      <td>0.253896</td>\n",
       "      <td>8.431096</td>\n",
       "      <td>19754076.0</td>\n",
       "      <td>438680058</td>\n",
       "      <td>2.025869</td>\n",
       "      <td>19767153.5</td>\n",
       "      <td>33.206907</td>\n",
       "      <td>33.125161</td>\n",
       "      <td>4.082743</td>\n",
       "    </tr>\n",
       "  </tbody>\n",
       "</table>\n",
       "<p>6426 rows × 25 columns</p>\n",
       "</div>"
      ],
      "text/plain": [
       "                                     Country  Year  Data.Health.Birth Rate  \\\n",
       "0                                     Canada  1980               15.400000   \n",
       "1                                     Canada  1981               15.400000   \n",
       "2                                     Canada  1982               15.300000   \n",
       "3                                     Canada  1983               15.100000   \n",
       "4                                     Canada  1984               15.000000   \n",
       "...                                      ...   ...                     ...   \n",
       "6421  Heavily indebted poor countries (HIPC)  2009               39.694362   \n",
       "6422  Heavily indebted poor countries (HIPC)  2010               39.249875   \n",
       "6423  Heavily indebted poor countries (HIPC)  2011               38.807293   \n",
       "6424  Heavily indebted poor countries (HIPC)  2012               38.366140   \n",
       "6425  Heavily indebted poor countries (HIPC)  2013               37.924698   \n",
       "\n",
       "      Data.Health.Death Rate  Data.Health.Fertility Rate  \\\n",
       "0                   7.000000                    1.754000   \n",
       "1                   7.100000                    1.740000   \n",
       "2                   7.000000                    1.700000   \n",
       "3                   7.100000                    1.690000   \n",
       "4                   7.000000                    1.680000   \n",
       "...                      ...                         ...   \n",
       "6421               11.568275                    5.448853   \n",
       "6422               11.239563                    5.363884   \n",
       "6423               10.936774                    5.278963   \n",
       "6424               10.661019                    5.194085   \n",
       "6425               10.407943                    5.109213   \n",
       "\n",
       "      Data.Health.Life Expectancy at Birth, Female  \\\n",
       "0                                        78.590000   \n",
       "1                                        78.730000   \n",
       "2                                        79.110000   \n",
       "3                                        79.230000   \n",
       "4                                        79.550000   \n",
       "...                                            ...   \n",
       "6421                                     57.314810   \n",
       "6422                                     57.941917   \n",
       "6423                                     58.533726   \n",
       "6424                                     59.080577   \n",
       "6425                                     59.585337   \n",
       "\n",
       "      Data.Health.Life Expectancy at Birth, Male  \\\n",
       "0                                      71.320000   \n",
       "1                                      71.600000   \n",
       "2                                      72.020000   \n",
       "3                                      72.300000   \n",
       "4                                      72.690000   \n",
       "...                                          ...   \n",
       "6421                                   55.042182   \n",
       "6422                                   55.580622   \n",
       "6423                                   56.080300   \n",
       "6424                                   56.538581   \n",
       "6425                                   56.962692   \n",
       "\n",
       "      Data.Health.Life Expectancy at Birth, Total  \\\n",
       "0                                       74.866341   \n",
       "1                                       75.078049   \n",
       "2                                       75.478537   \n",
       "3                                       75.680488   \n",
       "4                                       76.036341   \n",
       "...                                           ...   \n",
       "6421                                    56.149510   \n",
       "6422                                    56.731231   \n",
       "6423                                    57.275881   \n",
       "6424                                    57.777390   \n",
       "6425                                    58.240852   \n",
       "\n",
       "      Data.Health.Population Growth  Data.Health.Total Population  ...  \\\n",
       "0                          0.997669                    24277000.0  ...   \n",
       "1                          1.293245                    24593000.0  ...   \n",
       "2                          1.240595                    24900000.0  ...   \n",
       "3                          1.205555                    25202000.0  ...   \n",
       "4                          1.002812                    25456000.0  ...   \n",
       "...                             ...                           ...  ...   \n",
       "6421                       2.755547                   589184942.0  ...   \n",
       "6422                       2.742284                   605342064.0  ...   \n",
       "6423                       2.728734                   621860240.0  ...   \n",
       "6424                       2.714024                   638737676.0  ...   \n",
       "6425                       2.698148                   655971763.0  ...   \n",
       "\n",
       "      Data.Rural Development.Agricultural Land Percent  \\\n",
       "0                                             7.357225   \n",
       "1                                             7.301471   \n",
       "2                                             7.245717   \n",
       "3                                             7.288275   \n",
       "4                                             7.330943   \n",
       "...                                                ...   \n",
       "6421                                         40.224998   \n",
       "6422                                         40.282701   \n",
       "6423                                         40.402744   \n",
       "6424                                         39.072643   \n",
       "6425                                         39.676293   \n",
       "\n",
       "      Data.Rural Development.Arable Land  \\\n",
       "0                               1.827821   \n",
       "1                               1.818526   \n",
       "2                               1.810120   \n",
       "3                               1.789779   \n",
       "4                               1.773217   \n",
       "...                                  ...   \n",
       "6421                            0.259585   \n",
       "6422                            0.254637   \n",
       "6423                            0.251078   \n",
       "6424                            0.243605   \n",
       "6425                            0.253896   \n",
       "\n",
       "      Data.Rural Development.Arable Land Percent  \\\n",
       "0                                       4.879744   \n",
       "1                                       4.918123   \n",
       "2                                       4.956502   \n",
       "3                                       4.960241   \n",
       "4                                       4.963870   \n",
       "...                                          ...   \n",
       "6421                                    7.742953   \n",
       "6422                                    7.803635   \n",
       "6423                                    7.904542   \n",
       "6424                                    7.877416   \n",
       "6425                                    8.431096   \n",
       "\n",
       "      Data.Rural Development.Land Area  \\\n",
       "0                            9093510.0   \n",
       "1                            9093510.0   \n",
       "2                            9093510.0   \n",
       "3                            9093510.0   \n",
       "4                            9093510.0   \n",
       "...                                ...   \n",
       "6421                        19752631.0   \n",
       "6422                        19752631.0   \n",
       "6423                        19752631.0   \n",
       "6424                        19752631.0   \n",
       "6425                        19754076.0   \n",
       "\n",
       "      Data.Rural Development.Rural Population  \\\n",
       "0                                     5918004   \n",
       "1                                     5985198   \n",
       "2                                     6047712   \n",
       "3                                     6080235   \n",
       "4                                     6100530   \n",
       "...                                       ...   \n",
       "6421                                404203594   \n",
       "6422                                412723475   \n",
       "6423                                421313384   \n",
       "6424                                429969441   \n",
       "6425                                438680058   \n",
       "\n",
       "      Data.Rural Development.Rural Population Growth  \\\n",
       "0                                           0.833712   \n",
       "1                                           1.129019   \n",
       "2                                           1.039060   \n",
       "3                                           0.536333   \n",
       "4                                           0.333231   \n",
       "...                                              ...   \n",
       "6421                                        2.132400   \n",
       "6422                                        2.107819   \n",
       "6423                                        2.081275   \n",
       "6424                                        2.054541   \n",
       "6425                                        2.025869   \n",
       "\n",
       "      Data.Rural Development.Surface Area  \\\n",
       "0                               9984670.0   \n",
       "1                               9984670.0   \n",
       "2                               9984670.0   \n",
       "3                               9984670.0   \n",
       "4                               9984670.0   \n",
       "...                                   ...   \n",
       "6421                           20392171.0   \n",
       "6422                           20392171.0   \n",
       "6423                           20392171.0   \n",
       "6424                           19765718.5   \n",
       "6425                           19767153.5   \n",
       "\n",
       "      Data.Urban Development.Population Density  \\\n",
       "0                                      2.669706   \n",
       "1                                      2.704456   \n",
       "2                                      2.738217   \n",
       "3                                      2.771427   \n",
       "4                                      2.799359   \n",
       "...                                         ...   \n",
       "6421                                  29.828175   \n",
       "6422                                  30.646149   \n",
       "6423                                  31.482400   \n",
       "6424                                  32.336840   \n",
       "6425                                  33.206907   \n",
       "\n",
       "      Data.Urban Development.Urban Population Percent  \\\n",
       "0                                           75.623000   \n",
       "1                                           75.663000   \n",
       "2                                           75.712000   \n",
       "3                                           75.874000   \n",
       "4                                           76.035000   \n",
       "...                                               ...   \n",
       "6421                                        31.396143   \n",
       "6422                                        31.819793   \n",
       "6423                                        32.249506   \n",
       "6424                                        32.684503   \n",
       "6425                                        33.125161   \n",
       "\n",
       "      Data.Urban Development.Urban Population Percent Growth  \n",
       "0                                              1.050578       \n",
       "1                                              1.346126       \n",
       "2                                              1.305333       \n",
       "3                                              1.419293       \n",
       "4                                              1.214785       \n",
       "...                                                 ...       \n",
       "6421                                           4.144006       \n",
       "6422                                           4.128655       \n",
       "6423                                           4.116045       \n",
       "6424                                           4.099480       \n",
       "6425                                           4.082743       \n",
       "\n",
       "[6426 rows x 25 columns]"
      ]
     },
     "execution_count": 60,
     "metadata": {},
     "output_type": "execute_result"
    }
   ],
   "source": [
    "url = 'https://corgis-edu.github.io/corgis/datasets/csv/global_development/global_development.csv'\n",
    "pd.read_csv(url)"
   ]
  },
  {
   "cell_type": "code",
   "execution_count": 67,
   "id": "9299dfd0",
   "metadata": {},
   "outputs": [
    {
     "data": {
      "text/html": [
       "<div>\n",
       "<style scoped>\n",
       "    .dataframe tbody tr th:only-of-type {\n",
       "        vertical-align: middle;\n",
       "    }\n",
       "\n",
       "    .dataframe tbody tr th {\n",
       "        vertical-align: top;\n",
       "    }\n",
       "\n",
       "    .dataframe thead th {\n",
       "        text-align: right;\n",
       "    }\n",
       "</style>\n",
       "<table border=\"1\" class=\"dataframe\">\n",
       "  <thead>\n",
       "    <tr style=\"text-align: right;\">\n",
       "      <th></th>\n",
       "      <th>Country</th>\n",
       "      <th>Region</th>\n",
       "      <th>Population</th>\n",
       "      <th>Area (sq. mi.)</th>\n",
       "      <th>Pop. Density (per sq. mi.)</th>\n",
       "      <th>Coastline (coast/area ratio)</th>\n",
       "      <th>Net migration</th>\n",
       "      <th>Infant mortality (per 1000 births)</th>\n",
       "      <th>GDP ($ per capita)</th>\n",
       "      <th>Literacy (%)</th>\n",
       "      <th>Phones (per 1000)</th>\n",
       "      <th>Arable (%)</th>\n",
       "      <th>Crops (%)</th>\n",
       "      <th>Other (%)</th>\n",
       "      <th>Climate</th>\n",
       "      <th>Birthrate</th>\n",
       "      <th>Deathrate</th>\n",
       "      <th>Agriculture</th>\n",
       "      <th>Industry</th>\n",
       "      <th>Service</th>\n",
       "    </tr>\n",
       "  </thead>\n",
       "  <tbody>\n",
       "    <tr>\n",
       "      <th>0</th>\n",
       "      <td>Afghanistan</td>\n",
       "      <td>ASIA (EX. NEAR EAST)</td>\n",
       "      <td>31056997</td>\n",
       "      <td>647500</td>\n",
       "      <td>48,0</td>\n",
       "      <td>0,00</td>\n",
       "      <td>23,06</td>\n",
       "      <td>163,07</td>\n",
       "      <td>700.0</td>\n",
       "      <td>36,0</td>\n",
       "      <td>3,2</td>\n",
       "      <td>12,13</td>\n",
       "      <td>0,22</td>\n",
       "      <td>87,65</td>\n",
       "      <td>1</td>\n",
       "      <td>46,6</td>\n",
       "      <td>20,34</td>\n",
       "      <td>0,38</td>\n",
       "      <td>0,24</td>\n",
       "      <td>0,38</td>\n",
       "    </tr>\n",
       "    <tr>\n",
       "      <th>1</th>\n",
       "      <td>Albania</td>\n",
       "      <td>EASTERN EUROPE</td>\n",
       "      <td>3581655</td>\n",
       "      <td>28748</td>\n",
       "      <td>124,6</td>\n",
       "      <td>1,26</td>\n",
       "      <td>-4,93</td>\n",
       "      <td>21,52</td>\n",
       "      <td>4500.0</td>\n",
       "      <td>86,5</td>\n",
       "      <td>71,2</td>\n",
       "      <td>21,09</td>\n",
       "      <td>4,42</td>\n",
       "      <td>74,49</td>\n",
       "      <td>3</td>\n",
       "      <td>15,11</td>\n",
       "      <td>5,22</td>\n",
       "      <td>0,232</td>\n",
       "      <td>0,188</td>\n",
       "      <td>0,579</td>\n",
       "    </tr>\n",
       "    <tr>\n",
       "      <th>2</th>\n",
       "      <td>Algeria</td>\n",
       "      <td>NORTHERN AFRICA</td>\n",
       "      <td>32930091</td>\n",
       "      <td>2381740</td>\n",
       "      <td>13,8</td>\n",
       "      <td>0,04</td>\n",
       "      <td>-0,39</td>\n",
       "      <td>31</td>\n",
       "      <td>6000.0</td>\n",
       "      <td>70,0</td>\n",
       "      <td>78,1</td>\n",
       "      <td>3,22</td>\n",
       "      <td>0,25</td>\n",
       "      <td>96,53</td>\n",
       "      <td>1</td>\n",
       "      <td>17,14</td>\n",
       "      <td>4,61</td>\n",
       "      <td>0,101</td>\n",
       "      <td>0,6</td>\n",
       "      <td>0,298</td>\n",
       "    </tr>\n",
       "    <tr>\n",
       "      <th>3</th>\n",
       "      <td>American Samoa</td>\n",
       "      <td>OCEANIA</td>\n",
       "      <td>57794</td>\n",
       "      <td>199</td>\n",
       "      <td>290,4</td>\n",
       "      <td>58,29</td>\n",
       "      <td>-20,71</td>\n",
       "      <td>9,27</td>\n",
       "      <td>8000.0</td>\n",
       "      <td>97,0</td>\n",
       "      <td>259,5</td>\n",
       "      <td>10</td>\n",
       "      <td>15</td>\n",
       "      <td>75</td>\n",
       "      <td>2</td>\n",
       "      <td>22,46</td>\n",
       "      <td>3,27</td>\n",
       "      <td>NaN</td>\n",
       "      <td>NaN</td>\n",
       "      <td>NaN</td>\n",
       "    </tr>\n",
       "    <tr>\n",
       "      <th>4</th>\n",
       "      <td>Andorra</td>\n",
       "      <td>WESTERN EUROPE</td>\n",
       "      <td>71201</td>\n",
       "      <td>468</td>\n",
       "      <td>152,1</td>\n",
       "      <td>0,00</td>\n",
       "      <td>6,6</td>\n",
       "      <td>4,05</td>\n",
       "      <td>19000.0</td>\n",
       "      <td>100,0</td>\n",
       "      <td>497,2</td>\n",
       "      <td>2,22</td>\n",
       "      <td>0</td>\n",
       "      <td>97,78</td>\n",
       "      <td>3</td>\n",
       "      <td>8,71</td>\n",
       "      <td>6,25</td>\n",
       "      <td>NaN</td>\n",
       "      <td>NaN</td>\n",
       "      <td>NaN</td>\n",
       "    </tr>\n",
       "    <tr>\n",
       "      <th>...</th>\n",
       "      <td>...</td>\n",
       "      <td>...</td>\n",
       "      <td>...</td>\n",
       "      <td>...</td>\n",
       "      <td>...</td>\n",
       "      <td>...</td>\n",
       "      <td>...</td>\n",
       "      <td>...</td>\n",
       "      <td>...</td>\n",
       "      <td>...</td>\n",
       "      <td>...</td>\n",
       "      <td>...</td>\n",
       "      <td>...</td>\n",
       "      <td>...</td>\n",
       "      <td>...</td>\n",
       "      <td>...</td>\n",
       "      <td>...</td>\n",
       "      <td>...</td>\n",
       "      <td>...</td>\n",
       "      <td>...</td>\n",
       "    </tr>\n",
       "    <tr>\n",
       "      <th>222</th>\n",
       "      <td>West Bank</td>\n",
       "      <td>NEAR EAST</td>\n",
       "      <td>2460492</td>\n",
       "      <td>5860</td>\n",
       "      <td>419,9</td>\n",
       "      <td>0,00</td>\n",
       "      <td>2,98</td>\n",
       "      <td>19,62</td>\n",
       "      <td>800.0</td>\n",
       "      <td>NaN</td>\n",
       "      <td>145,2</td>\n",
       "      <td>16,9</td>\n",
       "      <td>18,97</td>\n",
       "      <td>64,13</td>\n",
       "      <td>3</td>\n",
       "      <td>31,67</td>\n",
       "      <td>3,92</td>\n",
       "      <td>0,09</td>\n",
       "      <td>0,28</td>\n",
       "      <td>0,63</td>\n",
       "    </tr>\n",
       "    <tr>\n",
       "      <th>223</th>\n",
       "      <td>Western Sahara</td>\n",
       "      <td>NORTHERN AFRICA</td>\n",
       "      <td>273008</td>\n",
       "      <td>266000</td>\n",
       "      <td>1,0</td>\n",
       "      <td>0,42</td>\n",
       "      <td>NaN</td>\n",
       "      <td>NaN</td>\n",
       "      <td>NaN</td>\n",
       "      <td>NaN</td>\n",
       "      <td>NaN</td>\n",
       "      <td>0,02</td>\n",
       "      <td>0</td>\n",
       "      <td>99,98</td>\n",
       "      <td>1</td>\n",
       "      <td>NaN</td>\n",
       "      <td>NaN</td>\n",
       "      <td>NaN</td>\n",
       "      <td>NaN</td>\n",
       "      <td>0,4</td>\n",
       "    </tr>\n",
       "    <tr>\n",
       "      <th>224</th>\n",
       "      <td>Yemen</td>\n",
       "      <td>NEAR EAST</td>\n",
       "      <td>21456188</td>\n",
       "      <td>527970</td>\n",
       "      <td>40,6</td>\n",
       "      <td>0,36</td>\n",
       "      <td>0</td>\n",
       "      <td>61,5</td>\n",
       "      <td>800.0</td>\n",
       "      <td>50,2</td>\n",
       "      <td>37,2</td>\n",
       "      <td>2,78</td>\n",
       "      <td>0,24</td>\n",
       "      <td>96,98</td>\n",
       "      <td>1</td>\n",
       "      <td>42,89</td>\n",
       "      <td>8,3</td>\n",
       "      <td>0,135</td>\n",
       "      <td>0,472</td>\n",
       "      <td>0,393</td>\n",
       "    </tr>\n",
       "    <tr>\n",
       "      <th>225</th>\n",
       "      <td>Zambia</td>\n",
       "      <td>SUB-SAHARAN AFRICA</td>\n",
       "      <td>11502010</td>\n",
       "      <td>752614</td>\n",
       "      <td>15,3</td>\n",
       "      <td>0,00</td>\n",
       "      <td>0</td>\n",
       "      <td>88,29</td>\n",
       "      <td>800.0</td>\n",
       "      <td>80,6</td>\n",
       "      <td>8,2</td>\n",
       "      <td>7,08</td>\n",
       "      <td>0,03</td>\n",
       "      <td>92,9</td>\n",
       "      <td>2</td>\n",
       "      <td>41</td>\n",
       "      <td>19,93</td>\n",
       "      <td>0,22</td>\n",
       "      <td>0,29</td>\n",
       "      <td>0,489</td>\n",
       "    </tr>\n",
       "    <tr>\n",
       "      <th>226</th>\n",
       "      <td>Zimbabwe</td>\n",
       "      <td>SUB-SAHARAN AFRICA</td>\n",
       "      <td>12236805</td>\n",
       "      <td>390580</td>\n",
       "      <td>31,3</td>\n",
       "      <td>0,00</td>\n",
       "      <td>0</td>\n",
       "      <td>67,69</td>\n",
       "      <td>1900.0</td>\n",
       "      <td>90,7</td>\n",
       "      <td>26,8</td>\n",
       "      <td>8,32</td>\n",
       "      <td>0,34</td>\n",
       "      <td>91,34</td>\n",
       "      <td>2</td>\n",
       "      <td>28,01</td>\n",
       "      <td>21,84</td>\n",
       "      <td>0,179</td>\n",
       "      <td>0,243</td>\n",
       "      <td>0,579</td>\n",
       "    </tr>\n",
       "  </tbody>\n",
       "</table>\n",
       "<p>227 rows × 20 columns</p>\n",
       "</div>"
      ],
      "text/plain": [
       "             Country                               Region  Population  \\\n",
       "0       Afghanistan         ASIA (EX. NEAR EAST)             31056997   \n",
       "1           Albania   EASTERN EUROPE                          3581655   \n",
       "2           Algeria   NORTHERN AFRICA                        32930091   \n",
       "3    American Samoa   OCEANIA                                   57794   \n",
       "4           Andorra   WESTERN EUROPE                            71201   \n",
       "..               ...                                  ...         ...   \n",
       "222       West Bank   NEAR EAST                               2460492   \n",
       "223  Western Sahara   NORTHERN AFRICA                          273008   \n",
       "224           Yemen   NEAR EAST                              21456188   \n",
       "225          Zambia   SUB-SAHARAN AFRICA                     11502010   \n",
       "226        Zimbabwe   SUB-SAHARAN AFRICA                     12236805   \n",
       "\n",
       "     Area (sq. mi.) Pop. Density (per sq. mi.) Coastline (coast/area ratio)  \\\n",
       "0            647500                       48,0                         0,00   \n",
       "1             28748                      124,6                         1,26   \n",
       "2           2381740                       13,8                         0,04   \n",
       "3               199                      290,4                        58,29   \n",
       "4               468                      152,1                         0,00   \n",
       "..              ...                        ...                          ...   \n",
       "222            5860                      419,9                         0,00   \n",
       "223          266000                        1,0                         0,42   \n",
       "224          527970                       40,6                         0,36   \n",
       "225          752614                       15,3                         0,00   \n",
       "226          390580                       31,3                         0,00   \n",
       "\n",
       "    Net migration Infant mortality (per 1000 births)  GDP ($ per capita)  \\\n",
       "0           23,06                             163,07               700.0   \n",
       "1           -4,93                              21,52              4500.0   \n",
       "2           -0,39                                 31              6000.0   \n",
       "3          -20,71                               9,27              8000.0   \n",
       "4             6,6                               4,05             19000.0   \n",
       "..            ...                                ...                 ...   \n",
       "222          2,98                              19,62               800.0   \n",
       "223           NaN                                NaN                 NaN   \n",
       "224             0                               61,5               800.0   \n",
       "225             0                              88,29               800.0   \n",
       "226             0                              67,69              1900.0   \n",
       "\n",
       "    Literacy (%) Phones (per 1000) Arable (%) Crops (%) Other (%) Climate  \\\n",
       "0           36,0               3,2      12,13      0,22     87,65       1   \n",
       "1           86,5              71,2      21,09      4,42     74,49       3   \n",
       "2           70,0              78,1       3,22      0,25     96,53       1   \n",
       "3           97,0             259,5         10        15        75       2   \n",
       "4          100,0             497,2       2,22         0     97,78       3   \n",
       "..           ...               ...        ...       ...       ...     ...   \n",
       "222          NaN             145,2       16,9     18,97     64,13       3   \n",
       "223          NaN               NaN       0,02         0     99,98       1   \n",
       "224         50,2              37,2       2,78      0,24     96,98       1   \n",
       "225         80,6               8,2       7,08      0,03      92,9       2   \n",
       "226         90,7              26,8       8,32      0,34     91,34       2   \n",
       "\n",
       "    Birthrate Deathrate Agriculture Industry Service  \n",
       "0        46,6     20,34        0,38     0,24    0,38  \n",
       "1       15,11      5,22       0,232    0,188   0,579  \n",
       "2       17,14      4,61       0,101      0,6   0,298  \n",
       "3       22,46      3,27         NaN      NaN     NaN  \n",
       "4        8,71      6,25         NaN      NaN     NaN  \n",
       "..        ...       ...         ...      ...     ...  \n",
       "222     31,67      3,92        0,09     0,28    0,63  \n",
       "223       NaN       NaN         NaN      NaN     0,4  \n",
       "224     42,89       8,3       0,135    0,472   0,393  \n",
       "225        41     19,93        0,22     0,29   0,489  \n",
       "226     28,01     21,84       0,179    0,243   0,579  \n",
       "\n",
       "[227 rows x 20 columns]"
      ]
     },
     "execution_count": 67,
     "metadata": {},
     "output_type": "execute_result"
    }
   ],
   "source": [
    "pd.read_csv('/home/jovyan/dgtHum_pythonClass/countries of the world.csv')"
   ]
  },
  {
   "cell_type": "code",
   "execution_count": null,
   "id": "3edbfb97",
   "metadata": {},
   "outputs": [],
   "source": []
  },
  {
   "cell_type": "code",
   "execution_count": 61,
   "id": "ab124319",
   "metadata": {
    "scrolled": false
   },
   "outputs": [
    {
     "name": "stderr",
     "output_type": "stream",
     "text": [
      "/tmp/ipykernel_26/2967129644.py:7: FutureWarning: The default value of numeric_only in DataFrameGroupBy.sum is deprecated. In a future version, numeric_only will default to False. Either specify numeric_only or select only columns which should be valid for the function.\n",
      "  df_co2_year = df_co2.groupby('Year').sum()['Emissions.Type.CO2']\n"
     ]
    },
    {
     "data": {
      "image/png": "[encoded data removed]",
      "text/plain": [
       "<Figure size 640x480 with 1 Axes>"
      ]
     },
     "metadata": {},
     "output_type": "display_data"
    }
   ],
   "source": [
    "import pandas as pd\n",
    "import matplotlib.pyplot as plt\n",
    "\n",
    "df = pd.read_csv('https://corgis-edu.github.io/corgis/datasets/csv/emissions/emissions.csv')\n",
    "\n",
    "df_co2 = df.loc[df['Emissions.Type.CO2'] > 0]\n",
    "df_co2_year = df_co2.groupby('Year').sum()['Emissions.Type.CO2']\n",
    "\n",
    "plt.plot(df_co2_year.index, df_co2_year.values)\n",
    "plt.xlabel('Year')\n",
    "plt.ylabel('CO2 Emissions (metric tons)')\n",
    "plt.title('CO2 Emissions by Year')\n",
    "plt.show()\n",
    "\n"
   ]
  },
  {
   "cell_type": "code",
   "execution_count": 62,
   "id": "025f0de9",
   "metadata": {},
   "outputs": [
    {
     "data": {
      "image/png": "[encoded data removed]",
      "text/plain": [
       "<Figure size 640x480 with 1 Axes>"
      ]
     },
     "metadata": {},
     "output_type": "display_data"
    }
   ],
   "source": [
    "import pandas as pd\n",
    "import matplotlib.pyplot as plt\n",
    "\n",
    "df = pd.read_csv('https://corgis-edu.github.io/corgis/datasets/csv/emissions/emissions.csv')\n",
    "\n",
    "df_gas = df[['Emissions.Type.CO2', 'Emissions.Type.N2O', 'Emissions.Type.CH4']].sum()\n",
    "\n",
    "plt.bar(df_gas.index, df_gas.values)\n",
    "plt.xlabel('Gas')\n",
    "plt.ylabel('Emissions (metric tons)')\n",
    "plt.title('Emissions by Gas')\n",
    "plt.show()\n"
   ]
  },
  {
   "cell_type": "code",
   "execution_count": null,
   "id": "84f98353",
   "metadata": {},
   "outputs": [],
   "source": []
  },
  {
   "cell_type": "code",
   "execution_count": 64,
   "id": "5a55ed8d",
   "metadata": {},
   "outputs": [
    {
     "data": {
      "image/png": "[encoded data removed]",
      "text/plain": [
       "<Figure size 1000x500 with 1 Axes>"
      ]
     },
     "metadata": {},
     "output_type": "display_data"
    }
   ],
   "source": [
    "import pandas as pd\n",
    "import matplotlib.pyplot as plt\n",
    "\n",
    "# Load the data\n",
    "df = pd.read_csv('https://corgis-edu.github.io/corgis/datasets/csv/global_emissions/global_emissions.csv')\n",
    "\n",
    "# Select a specific country\n",
    "country = 'United States'\n",
    "df_country = df[df['Country.Name'] == country]\n",
    "\n",
    "# Group the data by year and sum the emissions from different sources\n",
    "df_year = df_country.groupby('Year')[['Emissions.Production.CO2.Cement', 'Emissions.Production.CO2.Coal',\n",
    "                                      'Emissions.Production.CO2.Gas', 'Emissions.Production.CO2.Oil']].sum()\n",
    "\n",
    "# Plot the line chart\n",
    "df_year.plot(kind='line', figsize=(10, 5))\n",
    "plt.title(f'CO2 Emissions from different sources in {country}')\n",
    "plt.xlabel('Year')\n",
    "plt.ylabel('CO2 Emissions (metric tons)')\n",
    "plt.show()\n",
    "\n",
    "\n"
   ]
  },
  {
   "cell_type": "code",
   "execution_count": 4,
   "id": "d3733a89",
   "metadata": {},
   "outputs": [
    {
     "data": {
      "image/png": "[encoded data removed]",
      "text/plain": [
       "<Figure size 640x480 with 1 Axes>"
      ]
     },
     "metadata": {},
     "output_type": "display_data"
    }
   ],
   "source": [
    "import pandas as pd\n",
    "import matplotlib.pyplot as plt\n",
    "\n",
    "# Load the data\n",
    "df = pd.read_csv('https://corgis-edu.github.io/corgis/datasets/csv/global_emissions/global_emissions.csv')\n",
    "\n",
    "# Select a specific year\n",
    "year = 2018\n",
    "df_year = df[df['Year'] == year]\n",
    "\n",
    "# Sort the data by total CO2 emissions\n",
    "df_sorted = df_year.sort_values(by='Emissions.Production.CO2.Total', ascending=False)\n",
    "\n",
    "# Select the top 10 countries\n",
    "df_top10 = df_sorted.head(10)\n",
    "\n",
    "# Plot the bar chart\n",
    "plt.bar(df_top10['Country.Name'], df_top10['Emissions.Production.CO2.Total'])\n",
    "plt.title(f'Top 10 Countries with highest CO2 Emissions in {year}')\n",
    "plt.xlabel('Country')\n",
    "plt.ylabel('CO2 Emissions (metric tons)')\n",
    "plt.xticks(rotation=90)\n",
    "plt.show()\n"
   ]
  },
  {
   "cell_type": "code",
   "execution_count": 12,
   "id": "9a67bedc",
   "metadata": {},
   "outputs": [
    {
     "data": {
      "image/png": "[encoded data removed]",
      "text/plain": [
       "<Figure size 640x480 with 1 Axes>"
      ]
     },
     "metadata": {},
     "output_type": "display_data"
    }
   ],
   "source": [
    "\n",
    "import pandas as pd\n",
    "import matplotlib.pyplot as plt\n",
    "\n",
    "# Load the data\n",
    "df = pd.read_csv('https://corgis-edu.github.io/corgis/datasets/csv/global_emissions/global_emissions.csv')\n",
    "\n",
    "# Select a specific year\n",
    "year = 2018\n",
    "df_year = df[df['Year'] == year]\n",
    "\n",
    "# Sort the data by total CO2 emissions\n",
    "df_sorted = df_year.sort_values(by='Emissions.Production.CO2.Total', ascending=True)\n",
    "\n",
    "# Select the top 10 countries\n",
    "df_bottom10 = df_sorted.head(10)\n",
    "\n",
    "# Plot the bar chart\n",
    "plt.bar(df_bottom10['Country.Name'], df_bottom10['Emissions.Production.CO2.Total'])\n",
    "plt.title(f'Bottom 10 Countries with lowest CO2 Emissions in {year}')\n",
    "plt.xlabel('Country')\n",
    "plt.ylabel('CO2 Emissions (metric tons)')\n",
    "plt.xticks(rotation=90)\n",
    "plt.show()\n"
   ]
  },
  {
   "cell_type": "code",
   "execution_count": 9,
   "id": "d4b73a03",
   "metadata": {},
   "outputs": [
    {
     "data": {
      "image/png": "[encoded data removed]",
      "text/plain": [
       "<Figure size 640x480 with 1 Axes>"
      ]
     },
     "metadata": {},
     "output_type": "display_data"
    }
   ],
   "source": [
    "\n",
    "import pandas as pd\n",
    "import matplotlib.pyplot as plt\n",
    "\n",
    "# Load the data\n",
    "df = pd.read_csv('https://corgis-edu.github.io/corgis/datasets/csv/global_development/global_development.csv')\n",
    "\n",
    "# Select the columns of interest\n",
    "telephone_data = df[['Country', 'Data.Infrastructure.Telephone Lines']]\n",
    "\n",
    "# Drop rows with missing data\n",
    "telephone_data = telephone_data.dropna()\n",
    "\n",
    "# Filter out the row with country name \"World\"\n",
    "telephone_data = telephone_data[telephone_data['Country'] != 'World']\n",
    "telephone_data = telephone_data[telephone_data['Country'] != 'Low & middle income']\n",
    "telephone_data = telephone_data[telephone_data['Country'] != 'Middle income']\n",
    "telephone_data = telephone_data[telephone_data['Country'] != 'High income']\n",
    "telephone_data = telephone_data[telephone_data['Country'] != 'OECD members']\n",
    "telephone_data = telephone_data[telephone_data['Country'] != 'High income: OECD']\n",
    "telephone_data = telephone_data[telephone_data['Country'] != 'East Asia & Pacific (all income levels)']\n",
    "telephone_data = telephone_data[telephone_data['Country'] != 'East Asia & Pacific (developing only)']\n",
    "\n",
    "\n",
    "# Sort the data by number of telephone lines\n",
    "telephone_data = telephone_data.sort_values(by='Data.Infrastructure.Telephone Lines', ascending=False)\n",
    "\n",
    "# Select the top 10 countries\n",
    "top10 = telephone_data.head(10)\n",
    "\n",
    "# Create the bar chart\n",
    "plt.bar(top10['Country'], top10['Data.Infrastructure.Telephone Lines'])\n",
    "plt.title('Top 10 Countries with the Most Telephone Lines')\n",
    "plt.xlabel('Country')\n",
    "plt.ylabel('Number of Telephone Lines')\n",
    "plt.xticks(rotation=90)\n",
    "plt.show()\n"
   ]
  },
  {
   "cell_type": "code",
   "execution_count": 10,
   "id": "7672a98a",
   "metadata": {},
   "outputs": [
    {
     "data": {
      "image/png": "[encoded data removed]",
      "text/plain": [
       "<Figure size 640x480 with 1 Axes>"
      ]
     },
     "metadata": {},
     "output_type": "display_data"
    }
   ],
   "source": [
    "import pandas as pd\n",
    "import matplotlib.pyplot as plt\n",
    "\n",
    "# Load the data\n",
    "df = pd.read_csv('https://corgis-edu.github.io/corgis/datasets/csv/global_development/global_development.csv')\n",
    "\n",
    "# Select the columns of interest\n",
    "telephone_data = df[['Country', 'Data.Rural Development.Rural Population Growth']]\n",
    "\n",
    "# Drop rows with missing data\n",
    "telephone_data = telephone_data.dropna()\n",
    "\n",
    "# Filter out the row with country name \"World\"\n",
    "telephone_data = telephone_data[telephone_data['Country'] != 'World']\n",
    "\n",
    "# Sort the data by number of telephone lines\n",
    "telephone_data = telephone_data.sort_values(by='Data.Rural Development.Rural Population Growth', ascending=False)\n",
    "\n",
    "# Select the top 10 countries\n",
    "top10 = telephone_data.head(10)\n",
    "\n",
    "# Create the bar chart\n",
    "plt.bar(top10['Country'], top10['Data.Rural Development.Rural Population Growth'])\n",
    "plt.title('Most Rural Developement Growth')\n",
    "plt.xlabel('Country')\n",
    "plt.ylabel('Number of Growth')\n",
    "plt.xticks(rotation=90)\n",
    "plt.show()"
   ]
  },
  {
   "cell_type": "code",
   "execution_count": 52,
   "id": "f8590e99",
   "metadata": {},
   "outputs": [
    {
     "data": {
      "image/png": "[encoded data removed]",
      "text/plain": [
       "<Figure size 1000x600 with 2 Axes>"
      ]
     },
     "metadata": {},
     "output_type": "display_data"
    }
   ],
   "source": [
    "import geopandas as gpd\n",
    "import pandas as pd\n",
    "import matplotlib.pyplot as plt\n",
    "\n",
    "# Load the world map shapefile\n",
    "world = gpd.read_file(gpd.datasets.get_path('naturalearth_lowres'))\n",
    "\n",
    "# Load the emissions data and clean it up\n",
    "url = 'https://corgis-edu.github.io/corgis/datasets/csv/global_emissions/global_emissions.csv'\n",
    "emissions = pd.read_csv(url)\n",
    "emissions = emissions[emissions['Year'] == 2018]\n",
    "emissions = emissions[emissions['Emissions.Production.CO2.Total'].notna()]\n",
    "emissions['Country.Name'] = emissions['Country.Name'].replace('United States', 'United States of America')\n",
    "\n",
    "# Join the emissions data with the world map\n",
    "merged = world.merge(emissions, how='left', left_on='name', right_on='Country.Name')\n",
    "\n",
    "# Plot the map\n",
    "fig, ax = plt.subplots(figsize=(10, 6))\n",
    "ax.set_title('Total CO2 Emissions, 2018')\n",
    "\n",
    "merged.plot(column='Emissions.Production.CO2.Total', cmap='OrRd', legend=True, ax=ax)\n",
    "\n",
    "plt.show()\n",
    "\n"
   ]
  },
  {
   "cell_type": "code",
   "execution_count": 35,
   "id": "69ff6101",
   "metadata": {},
   "outputs": [
    {
     "data": {
      "image/png": "[encoded data removed]",
      "text/plain": [
       "<Figure size 1000x600 with 2 Axes>"
      ]
     },
     "metadata": {},
     "output_type": "display_data"
    }
   ],
   "source": [
    "import geopandas as gpd\n",
    "import pandas as pd\n",
    "import matplotlib.pyplot as plt\n",
    "\n",
    "# Load the world map shapefile\n",
    "world = gpd.read_file(gpd.datasets.get_path('naturalearth_lowres'))\n",
    "\n",
    "# Load the telephone lines data and clean it up\n",
    "url = 'https://corgis-edu.github.io/corgis/datasets/csv/global_development/global_development.csv'\n",
    "telephone_lines = pd.read_csv(url)\n",
    "telephone_lines = telephone_lines[['Country', 'Data.Infrastructure.Telephone Lines per 100 People']]\n",
    "telephone_lines = telephone_lines.rename(columns={'Country': 'name', 'Data.Infrastructure.Telephone Lines per 100 People': 'telephone_lines'})\n",
    "telephone_lines['name'] = telephone_lines['name'].replace('United States', 'United States of America')\n",
    "\n",
    "# Join the telephone lines data with the world map\n",
    "merged = world.merge(telephone_lines, how='left', on='name')\n",
    "\n",
    "# Plot the map\n",
    "fig, ax = plt.subplots(figsize=(10, 6))\n",
    "ax.set_title('Telephone Lines per 100 People')\n",
    "\n",
    "merged.plot(column='telephone_lines', cmap='YlGnBu', legend=True, ax=ax)\n",
    "\n",
    "plt.show()\n"
   ]
  },
  {
   "cell_type": "code",
   "execution_count": null,
   "id": "ab86bd36",
   "metadata": {},
   "outputs": [],
   "source": [
    "\n",
    "\n",
    "\n"
   ]
  },
  {
   "cell_type": "code",
   "execution_count": null,
   "id": "3968f650",
   "metadata": {},
   "outputs": [],
   "source": []
  },
  {
   "cell_type": "code",
   "execution_count": 11,
   "id": "c85704a6",
   "metadata": {},
   "outputs": [
    {
     "data": {
      "application/vnd.plotly.v1+json": {
       "config": {
        "plotlyServerURL": "https://plot.ly"
       },
       "data": [
        {
         "coloraxis": "coloraxis",
         "geo": "geo",
         "hovertemplate": "Country=%{location}<br>GDP ($ per capita)=%{z}<extra></extra>",
         "locationmode": "country names",
         "locations": [
          "Afghanistan ",
          "Albania ",
          "Algeria ",
          "American Samoa ",
          "Andorra ",
          "Angola ",
          "Anguilla ",
          "Antigua & Barbuda ",
          "Argentina ",
          "Armenia ",
          "Aruba ",
          "Australia ",
          "Austria ",
          "Azerbaijan ",
          "Bahamas, The ",
          "Bahrain ",
          "Bangladesh ",
          "Barbados ",
          "Belarus ",
          "Belgium ",
          "Belize ",
          "Benin ",
          "Bermuda ",
          "Bhutan ",
          "Bolivia ",
          "Bosnia & Herzegovina ",
          "Botswana ",
          "Brazil ",
          "British Virgin Is. ",
          "Brunei ",
          "Bulgaria ",
          "Burkina Faso ",
          "Burma ",
          "Burundi ",
          "Cambodia ",
          "Cameroon ",
          "Canada ",
          "Cape Verde ",
          "Cayman Islands ",
          "Central African Rep. ",
          "Chad ",
          "Chile ",
          "China ",
          "Colombia ",
          "Comoros ",
          "Congo, Dem. Rep. ",
          "Congo, Repub. of the ",
          "Cook Islands ",
          "Costa Rica ",
          "Cote d'Ivoire ",
          "Croatia ",
          "Cuba ",
          "Cyprus ",
          "Czech Republic ",
          "Denmark ",
          "Djibouti ",
          "Dominica ",
          "Dominican Republic ",
          "East Timor ",
          "Ecuador ",
          "Egypt ",
          "El Salvador ",
          "Equatorial Guinea ",
          "Eritrea ",
          "Estonia ",
          "Ethiopia ",
          "Faroe Islands ",
          "Fiji ",
          "Finland ",
          "France ",
          "French Guiana ",
          "French Polynesia ",
          "Gabon ",
          "Gambia, The ",
          "Gaza Strip ",
          "Georgia ",
          "Germany ",
          "Ghana ",
          "Gibraltar ",
          "Greece ",
          "Greenland ",
          "Grenada ",
          "Guadeloupe ",
          "Guam ",
          "Guatemala ",
          "Guernsey ",
          "Guinea ",
          "Guinea-Bissau ",
          "Guyana ",
          "Haiti ",
          "Honduras ",
          "Hong Kong ",
          "Hungary ",
          "Iceland ",
          "India ",
          "Indonesia ",
          "Iran ",
          "Iraq ",
          "Ireland ",
          "Isle of Man ",
          "Israel ",
          "Italy ",
          "Jamaica ",
          "Japan ",
          "Jersey ",
          "Jordan ",
          "Kazakhstan ",
          "Kenya ",
          "Kiribati ",
          "Korea, North ",
          "Korea, South ",
          "Kuwait ",
          "Kyrgyzstan ",
          "Laos ",
          "Latvia ",
          "Lebanon ",
          "Lesotho ",
          "Liberia ",
          "Libya ",
          "Liechtenstein ",
          "Lithuania ",
          "Luxembourg ",
          "Macau ",
          "Macedonia ",
          "Madagascar ",
          "Malawi ",
          "Malaysia ",
          "Maldives ",
          "Mali ",
          "Malta ",
          "Marshall Islands ",
          "Martinique ",
          "Mauritania ",
          "Mauritius ",
          "Mayotte ",
          "Mexico ",
          "Micronesia, Fed. St. ",
          "Moldova ",
          "Monaco ",
          "Mongolia ",
          "Montserrat ",
          "Morocco ",
          "Mozambique ",
          "Namibia ",
          "Nauru ",
          "Nepal ",
          "Netherlands ",
          "Netherlands Antilles ",
          "New Caledonia ",
          "New Zealand ",
          "Nicaragua ",
          "Niger ",
          "Nigeria ",
          "N. Mariana Islands ",
          "Norway ",
          "Oman ",
          "Pakistan ",
          "Palau ",
          "Panama ",
          "Papua New Guinea ",
          "Paraguay ",
          "Peru ",
          "Philippines ",
          "Poland ",
          "Portugal ",
          "Puerto Rico ",
          "Qatar ",
          "Reunion ",
          "Romania ",
          "Russia ",
          "Rwanda ",
          "Saint Helena ",
          "Saint Kitts & Nevis ",
          "Saint Lucia ",
          "St Pierre & Miquelon ",
          "Saint Vincent and the Grenadines ",
          "Samoa ",
          "San Marino ",
          "Sao Tome & Principe ",
          "Saudi Arabia ",
          "Senegal ",
          "Serbia ",
          "Seychelles ",
          "Sierra Leone ",
          "Singapore ",
          "Slovakia ",
          "Slovenia ",
          "Solomon Islands ",
          "Somalia ",
          "South Africa ",
          "Spain ",
          "Sri Lanka ",
          "Sudan ",
          "Suriname ",
          "Swaziland ",
          "Sweden ",
          "Switzerland ",
          "Syria ",
          "Taiwan ",
          "Tajikistan ",
          "Tanzania ",
          "Thailand ",
          "Togo ",
          "Tonga ",
          "Trinidad & Tobago ",
          "Tunisia ",
          "Turkey ",
          "Turkmenistan ",
          "Turks & Caicos Is ",
          "Tuvalu ",
          "Uganda ",
          "Ukraine ",
          "United Arab Emirates ",
          "United Kingdom ",
          "United States ",
          "Uruguay ",
          "Uzbekistan ",
          "Vanuatu ",
          "Venezuela ",
          "Vietnam ",
          "Virgin Islands ",
          "Wallis and Futuna ",
          "West Bank ",
          "Western Sahara ",
          "Yemen ",
          "Zambia ",
          "Zimbabwe "
         ],
         "name": "",
         "type": "choropleth",
         "z": [
          700,
          4500,
          6000,
          8000,
          19000,
          1900,
          8600,
          11000,
          11200,
          3500,
          28000,
          29000,
          30000,
          3400,
          16700,
          16900,
          1900,
          15700,
          6100,
          29100,
          4900,
          1100,
          36000,
          1300,
          2400,
          6100,
          9000,
          7600,
          16000,
          18600,
          7600,
          1100,
          1800,
          600,
          1900,
          1800,
          29800,
          1400,
          35000,
          1100,
          1200,
          9900,
          5000,
          6300,
          700,
          700,
          700,
          5000,
          9100,
          1400,
          10600,
          2900,
          19200,
          15700,
          31100,
          1300,
          5400,
          6000,
          500,
          3300,
          4000,
          4800,
          2700,
          700,
          12300,
          700,
          22000,
          5800,
          27400,
          27600,
          8300,
          17500,
          5500,
          1700,
          600,
          2500,
          27600,
          2200,
          17500,
          20000,
          20000,
          5000,
          8000,
          21000,
          4100,
          20000,
          2100,
          800,
          4000,
          1600,
          2600,
          28800,
          13900,
          30900,
          2900,
          3200,
          7000,
          1500,
          29600,
          21000,
          19800,
          26700,
          3900,
          28200,
          24800,
          4300,
          6300,
          1000,
          800,
          1300,
          17800,
          19000,
          1600,
          1700,
          10200,
          4800,
          3000,
          1000,
          6400,
          25000,
          11400,
          55100,
          19400,
          6700,
          800,
          600,
          9000,
          3900,
          900,
          17700,
          1600,
          14400,
          1800,
          11400,
          2600,
          9000,
          2000,
          1800,
          27000,
          1800,
          3400,
          4000,
          1200,
          7200,
          5000,
          1400,
          28600,
          11400,
          15000,
          21600,
          2300,
          800,
          900,
          12500,
          37800,
          13100,
          2100,
          9000,
          6300,
          2200,
          4700,
          5100,
          4600,
          11100,
          18000,
          16800,
          21500,
          5800,
          7000,
          8900,
          1300,
          2500,
          8800,
          5400,
          6900,
          2900,
          5600,
          34600,
          1200,
          11800,
          1600,
          2200,
          7800,
          500,
          23700,
          13300,
          19000,
          1700,
          500,
          10700,
          22000,
          3700,
          1900,
          4000,
          4900,
          26800,
          32700,
          3300,
          23400,
          1000,
          600,
          7400,
          1500,
          2200,
          9500,
          6900,
          6700,
          5800,
          9600,
          1100,
          1400,
          5400,
          23200,
          27700,
          37800,
          12800,
          1700,
          2900,
          4800,
          2500,
          17200,
          3700,
          800,
          null,
          800,
          800,
          1900
         ]
        }
       ],
       "layout": {
        "coloraxis": {
         "cmax": 55100,
         "cmin": 500,
         "colorbar": {
          "title": {
           "text": "GDP ($ per capita)"
          }
         },
         "colorscale": [
          [
           0,
           "#d1eeea"
          ],
          [
           0.125,
           "#a8dbd9"
          ],
          [
           0.25,
           "#85c4c9"
          ],
          [
           0.375,
           "#68abb8"
          ],
          [
           0.5,
           "#4f90a6"
          ],
          [
           0.625,
           "#3b738f"
          ],
          [
           0.75,
           "#2a5674"
          ],
          [
           0.875,
           "#1d3f5c"
          ],
          [
           1,
           "#152935"
          ]
         ]
        },
        "geo": {
         "center": {},
         "domain": {
          "x": [
           0,
           1
          ],
          "y": [
           0,
           1
          ]
         }
        },
        "legend": {
         "tracegroupgap": 0
        },
        "template": {
         "data": {
          "bar": [
           {
            "error_x": {
             "color": "#2a3f5f"
            },
            "error_y": {
             "color": "#2a3f5f"
            },
            "marker": {
             "line": {
              "color": "#E5ECF6",
              "width": 0.5
             },
             "pattern": {
              "fillmode": "overlay",
              "size": 10,
              "solidity": 0.2
             }
            },
            "type": "bar"
           }
          ],
          "barpolar": [
           {
            "marker": {
             "line": {
              "color": "#E5ECF6",
              "width": 0.5
             },
             "pattern": {
              "fillmode": "overlay",
              "size": 10,
              "solidity": 0.2
             }
            },
            "type": "barpolar"
           }
          ],
          "carpet": [
           {
            "aaxis": {
             "endlinecolor": "#2a3f5f",
             "gridcolor": "white",
             "linecolor": "white",
             "minorgridcolor": "white",
             "startlinecolor": "#2a3f5f"
            },
            "baxis": {
             "endlinecolor": "#2a3f5f",
             "gridcolor": "white",
             "linecolor": "white",
             "minorgridcolor": "white",
             "startlinecolor": "#2a3f5f"
            },
            "type": "carpet"
           }
          ],
          "choropleth": [
           {
            "colorbar": {
             "outlinewidth": 0,
             "ticks": ""
            },
            "type": "choropleth"
           }
          ],
          "contour": [
           {
            "colorbar": {
             "outlinewidth": 0,
             "ticks": ""
            },
            "colorscale": [
             [
              0,
              "#0d0887"
             ],
             [
              0.1111111111111111,
              "#46039f"
             ],
             [
              0.2222222222222222,
              "#7201a8"
             ],
             [
              0.3333333333333333,
              "#9c179e"
             ],
             [
              0.4444444444444444,
              "#bd3786"
             ],
             [
              0.5555555555555556,
              "#d8576b"
             ],
             [
              0.6666666666666666,
              "#ed7953"
             ],
             [
              0.7777777777777778,
              "#fb9f3a"
             ],
             [
              0.8888888888888888,
              "#fdca26"
             ],
             [
              1,
              "#f0f921"
             ]
            ],
            "type": "contour"
           }
          ],
          "contourcarpet": [
           {
            "colorbar": {
             "outlinewidth": 0,
             "ticks": ""
            },
            "type": "contourcarpet"
           }
          ],
          "heatmap": [
           {
            "colorbar": {
             "outlinewidth": 0,
             "ticks": ""
            },
            "colorscale": [
             [
              0,
              "#0d0887"
             ],
             [
              0.1111111111111111,
              "#46039f"
             ],
             [
              0.2222222222222222,
              "#7201a8"
             ],
             [
              0.3333333333333333,
              "#9c179e"
             ],
             [
              0.4444444444444444,
              "#bd3786"
             ],
             [
              0.5555555555555556,
              "#d8576b"
             ],
             [
              0.6666666666666666,
              "#ed7953"
             ],
             [
              0.7777777777777778,
              "#fb9f3a"
             ],
             [
              0.8888888888888888,
              "#fdca26"
             ],
             [
              1,
              "#f0f921"
             ]
            ],
            "type": "heatmap"
           }
          ],
          "heatmapgl": [
           {
            "colorbar": {
             "outlinewidth": 0,
             "ticks": ""
            },
            "colorscale": [
             [
              0,
              "#0d0887"
             ],
             [
              0.1111111111111111,
              "#46039f"
             ],
             [
              0.2222222222222222,
              "#7201a8"
             ],
             [
              0.3333333333333333,
              "#9c179e"
             ],
             [
              0.4444444444444444,
              "#bd3786"
             ],
             [
              0.5555555555555556,
              "#d8576b"
             ],
             [
              0.6666666666666666,
              "#ed7953"
             ],
             [
              0.7777777777777778,
              "#fb9f3a"
             ],
             [
              0.8888888888888888,
              "#fdca26"
             ],
             [
              1,
              "#f0f921"
             ]
            ],
            "type": "heatmapgl"
           }
          ],
          "histogram": [
           {
            "marker": {
             "pattern": {
              "fillmode": "overlay",
              "size": 10,
              "solidity": 0.2
             }
            },
            "type": "histogram"
           }
          ],
          "histogram2d": [
           {
            "colorbar": {
             "outlinewidth": 0,
             "ticks": ""
            },
            "colorscale": [
             [
              0,
              "#0d0887"
             ],
             [
              0.1111111111111111,
              "#46039f"
             ],
             [
              0.2222222222222222,
              "#7201a8"
             ],
             [
              0.3333333333333333,
              "#9c179e"
             ],
             [
              0.4444444444444444,
              "#bd3786"
             ],
             [
              0.5555555555555556,
              "#d8576b"
             ],
             [
              0.6666666666666666,
              "#ed7953"
             ],
             [
              0.7777777777777778,
              "#fb9f3a"
             ],
             [
              0.8888888888888888,
              "#fdca26"
             ],
             [
              1,
              "#f0f921"
             ]
            ],
            "type": "histogram2d"
           }
          ],
          "histogram2dcontour": [
           {
            "colorbar": {
             "outlinewidth": 0,
             "ticks": ""
            },
            "colorscale": [
             [
              0,
              "#0d0887"
             ],
             [
              0.1111111111111111,
              "#46039f"
             ],
             [
              0.2222222222222222,
              "#7201a8"
             ],
             [
              0.3333333333333333,
              "#9c179e"
             ],
             [
              0.4444444444444444,
              "#bd3786"
             ],
             [
              0.5555555555555556,
              "#d8576b"
             ],
             [
              0.6666666666666666,
              "#ed7953"
             ],
             [
              0.7777777777777778,
              "#fb9f3a"
             ],
             [
              0.8888888888888888,
              "#fdca26"
             ],
             [
              1,
              "#f0f921"
             ]
            ],
            "type": "histogram2dcontour"
           }
          ],
          "mesh3d": [
           {
            "colorbar": {
             "outlinewidth": 0,
             "ticks": ""
            },
            "type": "mesh3d"
           }
          ],
          "parcoords": [
           {
            "line": {
             "colorbar": {
              "outlinewidth": 0,
              "ticks": ""
             }
            },
            "type": "parcoords"
           }
          ],
          "pie": [
           {
            "automargin": true,
            "type": "pie"
           }
          ],
          "scatter": [
           {
            "fillpattern": {
             "fillmode": "overlay",
             "size": 10,
             "solidity": 0.2
            },
            "type": "scatter"
           }
          ],
          "scatter3d": [
           {
            "line": {
             "colorbar": {
              "outlinewidth": 0,
              "ticks": ""
             }
            },
            "marker": {
             "colorbar": {
              "outlinewidth": 0,
              "ticks": ""
             }
            },
            "type": "scatter3d"
           }
          ],
          "scattercarpet": [
           {
            "marker": {
             "colorbar": {
              "outlinewidth": 0,
              "ticks": ""
             }
            },
            "type": "scattercarpet"
           }
          ],
          "scattergeo": [
           {
            "marker": {
             "colorbar": {
              "outlinewidth": 0,
              "ticks": ""
             }
            },
            "type": "scattergeo"
           }
          ],
          "scattergl": [
           {
            "marker": {
             "colorbar": {
              "outlinewidth": 0,
              "ticks": ""
             }
            },
            "type": "scattergl"
           }
          ],
          "scattermapbox": [
           {
            "marker": {
             "colorbar": {
              "outlinewidth": 0,
              "ticks": ""
             }
            },
            "type": "scattermapbox"
           }
          ],
          "scatterpolar": [
           {
            "marker": {
             "colorbar": {
              "outlinewidth": 0,
              "ticks": ""
             }
            },
            "type": "scatterpolar"
           }
          ],
          "scatterpolargl": [
           {
            "marker": {
             "colorbar": {
              "outlinewidth": 0,
              "ticks": ""
             }
            },
            "type": "scatterpolargl"
           }
          ],
          "scatterternary": [
           {
            "marker": {
             "colorbar": {
              "outlinewidth": 0,
              "ticks": ""
             }
            },
            "type": "scatterternary"
           }
          ],
          "surface": [
           {
            "colorbar": {
             "outlinewidth": 0,
             "ticks": ""
            },
            "colorscale": [
             [
              0,
              "#0d0887"
             ],
             [
              0.1111111111111111,
              "#46039f"
             ],
             [
              0.2222222222222222,
              "#7201a8"
             ],
             [
              0.3333333333333333,
              "#9c179e"
             ],
             [
              0.4444444444444444,
              "#bd3786"
             ],
             [
              0.5555555555555556,
              "#d8576b"
             ],
             [
              0.6666666666666666,
              "#ed7953"
             ],
             [
              0.7777777777777778,
              "#fb9f3a"
             ],
             [
              0.8888888888888888,
              "#fdca26"
             ],
             [
              1,
              "#f0f921"
             ]
            ],
            "type": "surface"
           }
          ],
          "table": [
           {
            "cells": {
             "fill": {
              "color": "#EBF0F8"
             },
             "line": {
              "color": "white"
             }
            },
            "header": {
             "fill": {
              "color": "#C8D4E3"
             },
             "line": {
              "color": "white"
             }
            },
            "type": "table"
           }
          ]
         },
         "layout": {
          "annotationdefaults": {
           "arrowcolor": "#2a3f5f",
           "arrowhead": 0,
           "arrowwidth": 1
          },
          "autotypenumbers": "strict",
          "coloraxis": {
           "colorbar": {
            "outlinewidth": 0,
            "ticks": ""
           }
          },
          "colorscale": {
           "diverging": [
            [
             0,
             "#8e0152"
            ],
            [
             0.1,
             "#c51b7d"
            ],
            [
             0.2,
             "#de77ae"
            ],
            [
             0.3,
             "#f1b6da"
            ],
            [
             0.4,
             "#fde0ef"
            ],
            [
             0.5,
             "#f7f7f7"
            ],
            [
             0.6,
             "#e6f5d0"
            ],
            [
             0.7,
             "#b8e186"
            ],
            [
             0.8,
             "#7fbc41"
            ],
            [
             0.9,
             "#4d9221"
            ],
            [
             1,
             "#276419"
            ]
           ],
           "sequential": [
            [
             0,
             "#0d0887"
            ],
            [
             0.1111111111111111,
             "#46039f"
            ],
            [
             0.2222222222222222,
             "#7201a8"
            ],
            [
             0.3333333333333333,
             "#9c179e"
            ],
            [
             0.4444444444444444,
             "#bd3786"
            ],
            [
             0.5555555555555556,
             "#d8576b"
            ],
            [
             0.6666666666666666,
             "#ed7953"
            ],
            [
             0.7777777777777778,
             "#fb9f3a"
            ],
            [
             0.8888888888888888,
             "#fdca26"
            ],
            [
             1,
             "#f0f921"
            ]
           ],
           "sequentialminus": [
            [
             0,
             "#0d0887"
            ],
            [
             0.1111111111111111,
             "#46039f"
            ],
            [
             0.2222222222222222,
             "#7201a8"
            ],
            [
             0.3333333333333333,
             "#9c179e"
            ],
            [
             0.4444444444444444,
             "#bd3786"
            ],
            [
             0.5555555555555556,
             "#d8576b"
            ],
            [
             0.6666666666666666,
             "#ed7953"
            ],
            [
             0.7777777777777778,
             "#fb9f3a"
            ],
            [
             0.8888888888888888,
             "#fdca26"
            ],
            [
             1,
             "#f0f921"
            ]
           ]
          },
          "colorway": [
           "#636efa",
           "#EF553B",
           "#00cc96",
           "#ab63fa",
           "#FFA15A",
           "#19d3f3",
           "#FF6692",
           "#B6E880",
           "#FF97FF",
           "#FECB52"
          ],
          "font": {
           "color": "#2a3f5f"
          },
          "geo": {
           "bgcolor": "white",
           "lakecolor": "white",
           "landcolor": "#E5ECF6",
           "showlakes": true,
           "showland": true,
           "subunitcolor": "white"
          },
          "hoverlabel": {
           "align": "left"
          },
          "hovermode": "closest",
          "mapbox": {
           "style": "light"
          },
          "paper_bgcolor": "white",
          "plot_bgcolor": "#E5ECF6",
          "polar": {
           "angularaxis": {
            "gridcolor": "white",
            "linecolor": "white",
            "ticks": ""
           },
           "bgcolor": "#E5ECF6",
           "radialaxis": {
            "gridcolor": "white",
            "linecolor": "white",
            "ticks": ""
           }
          },
          "scene": {
           "xaxis": {
            "backgroundcolor": "#E5ECF6",
            "gridcolor": "white",
            "gridwidth": 2,
            "linecolor": "white",
            "showbackground": true,
            "ticks": "",
            "zerolinecolor": "white"
           },
           "yaxis": {
            "backgroundcolor": "#E5ECF6",
            "gridcolor": "white",
            "gridwidth": 2,
            "linecolor": "white",
            "showbackground": true,
            "ticks": "",
            "zerolinecolor": "white"
           },
           "zaxis": {
            "backgroundcolor": "#E5ECF6",
            "gridcolor": "white",
            "gridwidth": 2,
            "linecolor": "white",
            "showbackground": true,
            "ticks": "",
            "zerolinecolor": "white"
           }
          },
          "shapedefaults": {
           "line": {
            "color": "#2a3f5f"
           }
          },
          "ternary": {
           "aaxis": {
            "gridcolor": "white",
            "linecolor": "white",
            "ticks": ""
           },
           "baxis": {
            "gridcolor": "white",
            "linecolor": "white",
            "ticks": ""
           },
           "bgcolor": "#E5ECF6",
           "caxis": {
            "gridcolor": "white",
            "linecolor": "white",
            "ticks": ""
           }
          },
          "title": {
           "x": 0.05
          },
          "xaxis": {
           "automargin": true,
           "gridcolor": "white",
           "linecolor": "white",
           "ticks": "",
           "title": {
            "standoff": 15
           },
           "zerolinecolor": "white",
           "zerolinewidth": 2
          },
          "yaxis": {
           "automargin": true,
           "gridcolor": "white",
           "linecolor": "white",
           "ticks": "",
           "title": {
            "standoff": 15
           },
           "zerolinecolor": "white",
           "zerolinewidth": 2
          }
         }
        },
        "title": {
         "text": "GDP ($ per capita) by Country"
        }
       }
      },
      "text/html": [
       "<div>                            <div id=\"6dd0f6a5-01b9-4797-bb95-c45d0d6ef474\" class=\"plotly-graph-div\" style=\"height:525px; width:100%;\"></div>            <script type=\"text/javascript\">                require([\"plotly\"], function(Plotly) {                    window.PLOTLYENV=window.PLOTLYENV || {};                                    if (document.getElementById(\"6dd0f6a5-01b9-4797-bb95-c45d0d6ef474\")) {                    Plotly.newPlot(                        \"6dd0f6a5-01b9-4797-bb95-c45d0d6ef474\",                        [{\"coloraxis\":\"coloraxis\",\"geo\":\"geo\",\"hovertemplate\":\"Country=%{location}<br>GDP ($ per capita)=%{z}<extra></extra>\",\"locationmode\":\"country names\",\"locations\":[\"Afghanistan \",\"Albania \",\"Algeria \",\"American Samoa \",\"Andorra \",\"Angola \",\"Anguilla \",\"Antigua & Barbuda \",\"Argentina \",\"Armenia \",\"Aruba \",\"Australia \",\"Austria \",\"Azerbaijan \",\"Bahamas, The \",\"Bahrain \",\"Bangladesh \",\"Barbados \",\"Belarus \",\"Belgium \",\"Belize \",\"Benin \",\"Bermuda \",\"Bhutan \",\"Bolivia \",\"Bosnia & Herzegovina \",\"Botswana \",\"Brazil \",\"British Virgin Is. \",\"Brunei \",\"Bulgaria \",\"Burkina Faso \",\"Burma \",\"Burundi \",\"Cambodia \",\"Cameroon \",\"Canada \",\"Cape Verde \",\"Cayman Islands \",\"Central African Rep. \",\"Chad \",\"Chile \",\"China \",\"Colombia \",\"Comoros \",\"Congo, Dem. Rep. \",\"Congo, Repub. of the \",\"Cook Islands \",\"Costa Rica \",\"Cote d'Ivoire \",\"Croatia \",\"Cuba \",\"Cyprus \",\"Czech Republic \",\"Denmark \",\"Djibouti \",\"Dominica \",\"Dominican Republic \",\"East Timor \",\"Ecuador \",\"Egypt \",\"El Salvador \",\"Equatorial Guinea \",\"Eritrea \",\"Estonia \",\"Ethiopia \",\"Faroe Islands \",\"Fiji \",\"Finland \",\"France \",\"French Guiana \",\"French Polynesia \",\"Gabon \",\"Gambia, The \",\"Gaza Strip \",\"Georgia \",\"Germany \",\"Ghana \",\"Gibraltar \",\"Greece \",\"Greenland \",\"Grenada \",\"Guadeloupe \",\"Guam \",\"Guatemala \",\"Guernsey \",\"Guinea \",\"Guinea-Bissau \",\"Guyana \",\"Haiti \",\"Honduras \",\"Hong Kong \",\"Hungary \",\"Iceland \",\"India \",\"Indonesia \",\"Iran \",\"Iraq \",\"Ireland \",\"Isle of Man \",\"Israel \",\"Italy \",\"Jamaica \",\"Japan \",\"Jersey \",\"Jordan \",\"Kazakhstan \",\"Kenya \",\"Kiribati \",\"Korea, North \",\"Korea, South \",\"Kuwait \",\"Kyrgyzstan \",\"Laos \",\"Latvia \",\"Lebanon \",\"Lesotho \",\"Liberia \",\"Libya \",\"Liechtenstein \",\"Lithuania \",\"Luxembourg \",\"Macau \",\"Macedonia \",\"Madagascar \",\"Malawi \",\"Malaysia \",\"Maldives \",\"Mali \",\"Malta \",\"Marshall Islands \",\"Martinique \",\"Mauritania \",\"Mauritius \",\"Mayotte \",\"Mexico \",\"Micronesia, Fed. St. \",\"Moldova \",\"Monaco \",\"Mongolia \",\"Montserrat \",\"Morocco \",\"Mozambique \",\"Namibia \",\"Nauru \",\"Nepal \",\"Netherlands \",\"Netherlands Antilles \",\"New Caledonia \",\"New Zealand \",\"Nicaragua \",\"Niger \",\"Nigeria \",\"N. Mariana Islands \",\"Norway \",\"Oman \",\"Pakistan \",\"Palau \",\"Panama \",\"Papua New Guinea \",\"Paraguay \",\"Peru \",\"Philippines \",\"Poland \",\"Portugal \",\"Puerto Rico \",\"Qatar \",\"Reunion \",\"Romania \",\"Russia \",\"Rwanda \",\"Saint Helena \",\"Saint Kitts & Nevis \",\"Saint Lucia \",\"St Pierre & Miquelon \",\"Saint Vincent and the Grenadines \",\"Samoa \",\"San Marino \",\"Sao Tome & Principe \",\"Saudi Arabia \",\"Senegal \",\"Serbia \",\"Seychelles \",\"Sierra Leone \",\"Singapore \",\"Slovakia \",\"Slovenia \",\"Solomon Islands \",\"Somalia \",\"South Africa \",\"Spain \",\"Sri Lanka \",\"Sudan \",\"Suriname \",\"Swaziland \",\"Sweden \",\"Switzerland \",\"Syria \",\"Taiwan \",\"Tajikistan \",\"Tanzania \",\"Thailand \",\"Togo \",\"Tonga \",\"Trinidad & Tobago \",\"Tunisia \",\"Turkey \",\"Turkmenistan \",\"Turks & Caicos Is \",\"Tuvalu \",\"Uganda \",\"Ukraine \",\"United Arab Emirates \",\"United Kingdom \",\"United States \",\"Uruguay \",\"Uzbekistan \",\"Vanuatu \",\"Venezuela \",\"Vietnam \",\"Virgin Islands \",\"Wallis and Futuna \",\"West Bank \",\"Western Sahara \",\"Yemen \",\"Zambia \",\"Zimbabwe \"],\"name\":\"\",\"z\":[700.0,4500.0,6000.0,8000.0,19000.0,1900.0,8600.0,11000.0,11200.0,3500.0,28000.0,29000.0,30000.0,3400.0,16700.0,16900.0,1900.0,15700.0,6100.0,29100.0,4900.0,1100.0,36000.0,1300.0,2400.0,6100.0,9000.0,7600.0,16000.0,18600.0,7600.0,1100.0,1800.0,600.0,1900.0,1800.0,29800.0,1400.0,35000.0,1100.0,1200.0,9900.0,5000.0,6300.0,700.0,700.0,700.0,5000.0,9100.0,1400.0,10600.0,2900.0,19200.0,15700.0,31100.0,1300.0,5400.0,6000.0,500.0,3300.0,4000.0,4800.0,2700.0,700.0,12300.0,700.0,22000.0,5800.0,27400.0,27600.0,8300.0,17500.0,5500.0,1700.0,600.0,2500.0,27600.0,2200.0,17500.0,20000.0,20000.0,5000.0,8000.0,21000.0,4100.0,20000.0,2100.0,800.0,4000.0,1600.0,2600.0,28800.0,13900.0,30900.0,2900.0,3200.0,7000.0,1500.0,29600.0,21000.0,19800.0,26700.0,3900.0,28200.0,24800.0,4300.0,6300.0,1000.0,800.0,1300.0,17800.0,19000.0,1600.0,1700.0,10200.0,4800.0,3000.0,1000.0,6400.0,25000.0,11400.0,55100.0,19400.0,6700.0,800.0,600.0,9000.0,3900.0,900.0,17700.0,1600.0,14400.0,1800.0,11400.0,2600.0,9000.0,2000.0,1800.0,27000.0,1800.0,3400.0,4000.0,1200.0,7200.0,5000.0,1400.0,28600.0,11400.0,15000.0,21600.0,2300.0,800.0,900.0,12500.0,37800.0,13100.0,2100.0,9000.0,6300.0,2200.0,4700.0,5100.0,4600.0,11100.0,18000.0,16800.0,21500.0,5800.0,7000.0,8900.0,1300.0,2500.0,8800.0,5400.0,6900.0,2900.0,5600.0,34600.0,1200.0,11800.0,1600.0,2200.0,7800.0,500.0,23700.0,13300.0,19000.0,1700.0,500.0,10700.0,22000.0,3700.0,1900.0,4000.0,4900.0,26800.0,32700.0,3300.0,23400.0,1000.0,600.0,7400.0,1500.0,2200.0,9500.0,6900.0,6700.0,5800.0,9600.0,1100.0,1400.0,5400.0,23200.0,27700.0,37800.0,12800.0,1700.0,2900.0,4800.0,2500.0,17200.0,3700.0,800.0,null,800.0,800.0,1900.0],\"type\":\"choropleth\"}],                        {\"template\":{\"data\":{\"histogram2dcontour\":[{\"type\":\"histogram2dcontour\",\"colorbar\":{\"outlinewidth\":0,\"ticks\":\"\"},\"colorscale\":[[0.0,\"#0d0887\"],[0.1111111111111111,\"#46039f\"],[0.2222222222222222,\"#7201a8\"],[0.3333333333333333,\"#9c179e\"],[0.4444444444444444,\"#bd3786\"],[0.5555555555555556,\"#d8576b\"],[0.6666666666666666,\"#ed7953\"],[0.7777777777777778,\"#fb9f3a\"],[0.8888888888888888,\"#fdca26\"],[1.0,\"#f0f921\"]]}],\"choropleth\":[{\"type\":\"choropleth\",\"colorbar\":{\"outlinewidth\":0,\"ticks\":\"\"}}],\"histogram2d\":[{\"type\":\"histogram2d\",\"colorbar\":{\"outlinewidth\":0,\"ticks\":\"\"},\"colorscale\":[[0.0,\"#0d0887\"],[0.1111111111111111,\"#46039f\"],[0.2222222222222222,\"#7201a8\"],[0.3333333333333333,\"#9c179e\"],[0.4444444444444444,\"#bd3786\"],[0.5555555555555556,\"#d8576b\"],[0.6666666666666666,\"#ed7953\"],[0.7777777777777778,\"#fb9f3a\"],[0.8888888888888888,\"#fdca26\"],[1.0,\"#f0f921\"]]}],\"heatmap\":[{\"type\":\"heatmap\",\"colorbar\":{\"outlinewidth\":0,\"ticks\":\"\"},\"colorscale\":[[0.0,\"#0d0887\"],[0.1111111111111111,\"#46039f\"],[0.2222222222222222,\"#7201a8\"],[0.3333333333333333,\"#9c179e\"],[0.4444444444444444,\"#bd3786\"],[0.5555555555555556,\"#d8576b\"],[0.6666666666666666,\"#ed7953\"],[0.7777777777777778,\"#fb9f3a\"],[0.8888888888888888,\"#fdca26\"],[1.0,\"#f0f921\"]]}],\"heatmapgl\":[{\"type\":\"heatmapgl\",\"colorbar\":{\"outlinewidth\":0,\"ticks\":\"\"},\"colorscale\":[[0.0,\"#0d0887\"],[0.1111111111111111,\"#46039f\"],[0.2222222222222222,\"#7201a8\"],[0.3333333333333333,\"#9c179e\"],[0.4444444444444444,\"#bd3786\"],[0.5555555555555556,\"#d8576b\"],[0.6666666666666666,\"#ed7953\"],[0.7777777777777778,\"#fb9f3a\"],[0.8888888888888888,\"#fdca26\"],[1.0,\"#f0f921\"]]}],\"contourcarpet\":[{\"type\":\"contourcarpet\",\"colorbar\":{\"outlinewidth\":0,\"ticks\":\"\"}}],\"contour\":[{\"type\":\"contour\",\"colorbar\":{\"outlinewidth\":0,\"ticks\":\"\"},\"colorscale\":[[0.0,\"#0d0887\"],[0.1111111111111111,\"#46039f\"],[0.2222222222222222,\"#7201a8\"],[0.3333333333333333,\"#9c179e\"],[0.4444444444444444,\"#bd3786\"],[0.5555555555555556,\"#d8576b\"],[0.6666666666666666,\"#ed7953\"],[0.7777777777777778,\"#fb9f3a\"],[0.8888888888888888,\"#fdca26\"],[1.0,\"#f0f921\"]]}],\"surface\":[{\"type\":\"surface\",\"colorbar\":{\"outlinewidth\":0,\"ticks\":\"\"},\"colorscale\":[[0.0,\"#0d0887\"],[0.1111111111111111,\"#46039f\"],[0.2222222222222222,\"#7201a8\"],[0.3333333333333333,\"#9c179e\"],[0.4444444444444444,\"#bd3786\"],[0.5555555555555556,\"#d8576b\"],[0.6666666666666666,\"#ed7953\"],[0.7777777777777778,\"#fb9f3a\"],[0.8888888888888888,\"#fdca26\"],[1.0,\"#f0f921\"]]}],\"mesh3d\":[{\"type\":\"mesh3d\",\"colorbar\":{\"outlinewidth\":0,\"ticks\":\"\"}}],\"scatter\":[{\"fillpattern\":{\"fillmode\":\"overlay\",\"size\":10,\"solidity\":0.2},\"type\":\"scatter\"}],\"parcoords\":[{\"type\":\"parcoords\",\"line\":{\"colorbar\":{\"outlinewidth\":0,\"ticks\":\"\"}}}],\"scatterpolargl\":[{\"type\":\"scatterpolargl\",\"marker\":{\"colorbar\":{\"outlinewidth\":0,\"ticks\":\"\"}}}],\"bar\":[{\"error_x\":{\"color\":\"#2a3f5f\"},\"error_y\":{\"color\":\"#2a3f5f\"},\"marker\":{\"line\":{\"color\":\"#E5ECF6\",\"width\":0.5},\"pattern\":{\"fillmode\":\"overlay\",\"size\":10,\"solidity\":0.2}},\"type\":\"bar\"}],\"scattergeo\":[{\"type\":\"scattergeo\",\"marker\":{\"colorbar\":{\"outlinewidth\":0,\"ticks\":\"\"}}}],\"scatterpolar\":[{\"type\":\"scatterpolar\",\"marker\":{\"colorbar\":{\"outlinewidth\":0,\"ticks\":\"\"}}}],\"histogram\":[{\"marker\":{\"pattern\":{\"fillmode\":\"overlay\",\"size\":10,\"solidity\":0.2}},\"type\":\"histogram\"}],\"scattergl\":[{\"type\":\"scattergl\",\"marker\":{\"colorbar\":{\"outlinewidth\":0,\"ticks\":\"\"}}}],\"scatter3d\":[{\"type\":\"scatter3d\",\"line\":{\"colorbar\":{\"outlinewidth\":0,\"ticks\":\"\"}},\"marker\":{\"colorbar\":{\"outlinewidth\":0,\"ticks\":\"\"}}}],\"scattermapbox\":[{\"type\":\"scattermapbox\",\"marker\":{\"colorbar\":{\"outlinewidth\":0,\"ticks\":\"\"}}}],\"scatterternary\":[{\"type\":\"scatterternary\",\"marker\":{\"colorbar\":{\"outlinewidth\":0,\"ticks\":\"\"}}}],\"scattercarpet\":[{\"type\":\"scattercarpet\",\"marker\":{\"colorbar\":{\"outlinewidth\":0,\"ticks\":\"\"}}}],\"carpet\":[{\"aaxis\":{\"endlinecolor\":\"#2a3f5f\",\"gridcolor\":\"white\",\"linecolor\":\"white\",\"minorgridcolor\":\"white\",\"startlinecolor\":\"#2a3f5f\"},\"baxis\":{\"endlinecolor\":\"#2a3f5f\",\"gridcolor\":\"white\",\"linecolor\":\"white\",\"minorgridcolor\":\"white\",\"startlinecolor\":\"#2a3f5f\"},\"type\":\"carpet\"}],\"table\":[{\"cells\":{\"fill\":{\"color\":\"#EBF0F8\"},\"line\":{\"color\":\"white\"}},\"header\":{\"fill\":{\"color\":\"#C8D4E3\"},\"line\":{\"color\":\"white\"}},\"type\":\"table\"}],\"barpolar\":[{\"marker\":{\"line\":{\"color\":\"#E5ECF6\",\"width\":0.5},\"pattern\":{\"fillmode\":\"overlay\",\"size\":10,\"solidity\":0.2}},\"type\":\"barpolar\"}],\"pie\":[{\"automargin\":true,\"type\":\"pie\"}]},\"layout\":{\"autotypenumbers\":\"strict\",\"colorway\":[\"#636efa\",\"#EF553B\",\"#00cc96\",\"#ab63fa\",\"#FFA15A\",\"#19d3f3\",\"#FF6692\",\"#B6E880\",\"#FF97FF\",\"#FECB52\"],\"font\":{\"color\":\"#2a3f5f\"},\"hovermode\":\"closest\",\"hoverlabel\":{\"align\":\"left\"},\"paper_bgcolor\":\"white\",\"plot_bgcolor\":\"#E5ECF6\",\"polar\":{\"bgcolor\":\"#E5ECF6\",\"angularaxis\":{\"gridcolor\":\"white\",\"linecolor\":\"white\",\"ticks\":\"\"},\"radialaxis\":{\"gridcolor\":\"white\",\"linecolor\":\"white\",\"ticks\":\"\"}},\"ternary\":{\"bgcolor\":\"#E5ECF6\",\"aaxis\":{\"gridcolor\":\"white\",\"linecolor\":\"white\",\"ticks\":\"\"},\"baxis\":{\"gridcolor\":\"white\",\"linecolor\":\"white\",\"ticks\":\"\"},\"caxis\":{\"gridcolor\":\"white\",\"linecolor\":\"white\",\"ticks\":\"\"}},\"coloraxis\":{\"colorbar\":{\"outlinewidth\":0,\"ticks\":\"\"}},\"colorscale\":{\"sequential\":[[0.0,\"#0d0887\"],[0.1111111111111111,\"#46039f\"],[0.2222222222222222,\"#7201a8\"],[0.3333333333333333,\"#9c179e\"],[0.4444444444444444,\"#bd3786\"],[0.5555555555555556,\"#d8576b\"],[0.6666666666666666,\"#ed7953\"],[0.7777777777777778,\"#fb9f3a\"],[0.8888888888888888,\"#fdca26\"],[1.0,\"#f0f921\"]],\"sequentialminus\":[[0.0,\"#0d0887\"],[0.1111111111111111,\"#46039f\"],[0.2222222222222222,\"#7201a8\"],[0.3333333333333333,\"#9c179e\"],[0.4444444444444444,\"#bd3786\"],[0.5555555555555556,\"#d8576b\"],[0.6666666666666666,\"#ed7953\"],[0.7777777777777778,\"#fb9f3a\"],[0.8888888888888888,\"#fdca26\"],[1.0,\"#f0f921\"]],\"diverging\":[[0,\"#8e0152\"],[0.1,\"#c51b7d\"],[0.2,\"#de77ae\"],[0.3,\"#f1b6da\"],[0.4,\"#fde0ef\"],[0.5,\"#f7f7f7\"],[0.6,\"#e6f5d0\"],[0.7,\"#b8e186\"],[0.8,\"#7fbc41\"],[0.9,\"#4d9221\"],[1,\"#276419\"]]},\"xaxis\":{\"gridcolor\":\"white\",\"linecolor\":\"white\",\"ticks\":\"\",\"title\":{\"standoff\":15},\"zerolinecolor\":\"white\",\"automargin\":true,\"zerolinewidth\":2},\"yaxis\":{\"gridcolor\":\"white\",\"linecolor\":\"white\",\"ticks\":\"\",\"title\":{\"standoff\":15},\"zerolinecolor\":\"white\",\"automargin\":true,\"zerolinewidth\":2},\"scene\":{\"xaxis\":{\"backgroundcolor\":\"#E5ECF6\",\"gridcolor\":\"white\",\"linecolor\":\"white\",\"showbackground\":true,\"ticks\":\"\",\"zerolinecolor\":\"white\",\"gridwidth\":2},\"yaxis\":{\"backgroundcolor\":\"#E5ECF6\",\"gridcolor\":\"white\",\"linecolor\":\"white\",\"showbackground\":true,\"ticks\":\"\",\"zerolinecolor\":\"white\",\"gridwidth\":2},\"zaxis\":{\"backgroundcolor\":\"#E5ECF6\",\"gridcolor\":\"white\",\"linecolor\":\"white\",\"showbackground\":true,\"ticks\":\"\",\"zerolinecolor\":\"white\",\"gridwidth\":2}},\"shapedefaults\":{\"line\":{\"color\":\"#2a3f5f\"}},\"annotationdefaults\":{\"arrowcolor\":\"#2a3f5f\",\"arrowhead\":0,\"arrowwidth\":1},\"geo\":{\"bgcolor\":\"white\",\"landcolor\":\"#E5ECF6\",\"subunitcolor\":\"white\",\"showland\":true,\"showlakes\":true,\"lakecolor\":\"white\"},\"title\":{\"x\":0.05},\"mapbox\":{\"style\":\"light\"}}},\"geo\":{\"domain\":{\"x\":[0.0,1.0],\"y\":[0.0,1.0]},\"center\":{}},\"coloraxis\":{\"colorbar\":{\"title\":{\"text\":\"GDP ($ per capita)\"}},\"colorscale\":[[0.0,\"#d1eeea\"],[0.125,\"#a8dbd9\"],[0.25,\"#85c4c9\"],[0.375,\"#68abb8\"],[0.5,\"#4f90a6\"],[0.625,\"#3b738f\"],[0.75,\"#2a5674\"],[0.875,\"#1d3f5c\"],[1.0,\"#152935\"]],\"cmin\":500.0,\"cmax\":55100.0},\"legend\":{\"tracegroupgap\":0},\"title\":{\"text\":\"GDP ($ per capita) by Country\"}},                        {\"responsive\": true}                    ).then(function(){\n",
       "                            \n",
       "var gd = document.getElementById('6dd0f6a5-01b9-4797-bb95-c45d0d6ef474');\n",
       "var x = new MutationObserver(function (mutations, observer) {{\n",
       "        var display = window.getComputedStyle(gd).display;\n",
       "        if (!display || display === 'none') {{\n",
       "            console.log([gd, 'removed!']);\n",
       "            Plotly.purge(gd);\n",
       "            observer.disconnect();\n",
       "        }}\n",
       "}});\n",
       "\n",
       "// Listen for the removal of the full notebook cells\n",
       "var notebookContainer = gd.closest('#notebook-container');\n",
       "if (notebookContainer) {{\n",
       "    x.observe(notebookContainer, {childList: true});\n",
       "}}\n",
       "\n",
       "// Listen for the clearing of the current output cell\n",
       "var outputEl = gd.closest('.output');\n",
       "if (outputEl) {{\n",
       "    x.observe(outputEl, {childList: true});\n",
       "}}\n",
       "\n",
       "                        })                };                });            </script>        </div>"
      ]
     },
     "metadata": {},
     "output_type": "display_data"
    }
   ],
   "source": [
    "import pandas as pd\n",
    "import plotly.express as px\n",
    "\n",
    "# Read the CSV file into a pandas dataframe\n",
    "df = pd.read_csv('/home/jovyan/dgtHum_pythonClass/countries of the world.csv')\n",
    "\n",
    "# Define a color scale with better colors\n",
    "colors = ['#d1eeea', '#a8dbd9', '#85c4c9', '#68abb8', '#4f90a6', '#3b738f', '#2a5674', '#1d3f5c', '#152935']\n",
    "\n",
    "# Create a choropleth map using plotly express\n",
    "fig = px.choropleth(df, \n",
    "                    locations='Country', \n",
    "                    locationmode='country names', \n",
    "                    color='GDP ($ per capita)', \n",
    "                    range_color=[df['GDP ($ per capita)'].min(), df['GDP ($ per capita)'].max()], \n",
    "                    title='GDP ($ per capita) by Country',\n",
    "                    color_continuous_scale=colors)\n",
    "\n",
    "# Show the figure\n",
    "fig.show()\n"
   ]
  },
  {
   "cell_type": "code",
   "execution_count": null,
   "id": "a5d9b1b9",
   "metadata": {},
   "outputs": [],
   "source": []
  }
 ],
 "metadata": {
  "kernelspec": {
   "display_name": "Python 3 (ipykernel)",
   "language": "python",
   "name": "python3"
  },
  "language_info": {
   "codemirror_mode": {
    "name": "ipython",
    "version": 3
   },
   "file_extension": ".py",
   "mimetype": "text/x-python",
   "name": "python",
   "nbconvert_exporter": "python",
   "pygments_lexer": "ipython3",
   "version": "3.10.8"
  }
 },
 "nbformat": 4,
 "nbformat_minor": 5
}
