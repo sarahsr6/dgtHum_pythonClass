{
 "cells": [
  {
   "cell_type": "markdown",
   "id": "c8dde665",
   "metadata": {},
   "source": [
    "# Discussion"
   ]
  },
  {
   "cell_type": "markdown",
   "id": "ae653541",
   "metadata": {},
   "source": [
    "\"what does your analysis show, what is the big picture, and how are\n",
    "these findings useful?\""
   ]
  },
  {
   "cell_type": "code",
   "execution_count": null,
   "id": "83acedb2",
   "metadata": {},
   "outputs": [],
   "source": []
  }
 ],
 "metadata": {
  "kernelspec": {
   "display_name": "Python 3 (ipykernel)",
   "language": "python",
   "name": "python3"
  },
  "language_info": {
   "codemirror_mode": {
    "name": "ipython",
    "version": 3
   },
   "file_extension": ".py",
   "mimetype": "text/x-python",
   "name": "python",
   "nbconvert_exporter": "python",
   "pygments_lexer": "ipython3",
   "version": "3.10.8"
  }
 },
 "nbformat": 4,
 "nbformat_minor": 5
}
