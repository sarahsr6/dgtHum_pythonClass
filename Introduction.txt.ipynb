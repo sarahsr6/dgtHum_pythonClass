{
 "cells": [
  {
   "cell_type": "markdown",
   "id": "ee36a8dc",
   "metadata": {},
   "source": [
    "# CO2 Emmissions Worldwide and Technology"
   ]
  },
  {
   "cell_type": "markdown",
   "id": "afe9e0a9",
   "metadata": {},
   "source": [
    "### Who is the biggest culpret of CO2 emmissions? Does that have anything to do with technology developement?"
   ]
  },
  {
   "cell_type": "markdown",
   "id": "155865ff",
   "metadata": {},
   "source": [
    "\"an overview of your entire project, your research topic and question,\n",
    "your motivation to study this topic, and any prior related work\""
   ]
  },
  {
   "cell_type": "markdown",
   "id": "f1304810",
   "metadata": {},
   "source": [
    "Global warming is affecting our everyday lives and the developement of technology is a big part og that. The issue is that not everyone is as technologically developed, yet global warming affects everyone. In some cases it actually affects places that aren't as developed more. "
   ]
  },
  {
   "cell_type": "markdown",
   "id": "f38ff68b",
   "metadata": {},
   "source": [
    "The issue is that if we expand technology further and share with more countries to help developement, the spread of CO2 emmissions will get even worse than it already is. Will we come to a point in time where we will have to choose between developement and the envirnment? Maybe"
   ]
  },
  {
   "cell_type": "code",
   "execution_count": null,
   "id": "9ae938c9",
   "metadata": {},
   "outputs": [],
   "source": []
  }
 ],
 "metadata": {
  "kernelspec": {
   "display_name": "Python 3 (ipykernel)",
   "language": "python",
   "name": "python3"
  },
  "language_info": {
   "codemirror_mode": {
    "name": "ipython",
    "version": 3
   },
   "file_extension": ".py",
   "mimetype": "text/x-python",
   "name": "python",
   "nbconvert_exporter": "python",
   "pygments_lexer": "ipython3",
   "version": "3.10.8"
  }
 },
 "nbformat": 4,
 "nbformat_minor": 5
}
